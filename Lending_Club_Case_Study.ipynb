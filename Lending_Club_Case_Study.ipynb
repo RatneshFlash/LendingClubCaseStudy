{
 "cells": [
  {
   "cell_type": "markdown",
   "id": "8df321b2",
   "metadata": {},
   "source": [
    "# Lending Club Case Study"
   ]
  },
  {
   "cell_type": "markdown",
   "id": "93a8d30d",
   "metadata": {},
   "source": [
    "# Initial Steps"
   ]
  },
  {
   "cell_type": "code",
   "execution_count": 1,
   "id": "dd145498",
   "metadata": {},
   "outputs": [],
   "source": [
    "# Initialize library which to be used for analysis\n",
    "import pandas as pd\n",
    "import numpy as np"
   ]
  },
  {
   "cell_type": "code",
   "execution_count": 2,
   "id": "971bcc6d",
   "metadata": {},
   "outputs": [
    {
     "name": "stderr",
     "output_type": "stream",
     "text": [
      "C:\\Users\\priya\\AppData\\Local\\Temp\\ipykernel_8896\\3640188012.py:2: DtypeWarning: Columns (47) have mixed types. Specify dtype option on import or set low_memory=False.\n",
      "  raw_loan_data = pd.read_csv(\"loan.csv\")\n"
     ]
    },
    {
     "data": {
      "text/plain": [
       "(39717, 111)"
      ]
     },
     "execution_count": 2,
     "metadata": {},
     "output_type": "execute_result"
    }
   ],
   "source": [
    "# Reading coma separted file usingn pandas library\n",
    "raw_loan_data = pd.read_csv(\"loan.csv\")\n",
    "raw_loan_data.shape"
   ]
  },
  {
   "cell_type": "code",
   "execution_count": null,
   "id": "fa52046a",
   "metadata": {},
   "outputs": [],
   "source": []
  },
  {
   "cell_type": "markdown",
   "id": "c926fdcc",
   "metadata": {},
   "source": [
    "# Data Cleaning"
   ]
  },
  {
   "cell_type": "markdown",
   "id": "746ef1f2",
   "metadata": {},
   "source": [
    "## Check if any duplicate 'id' is present\n",
    "\n",
    "Ideally 'id' should be unique number for each row entry, hence below step is performed to check if we any duplicate 'id' is available"
   ]
  },
  {
   "cell_type": "code",
   "execution_count": 3,
   "id": "f148248b",
   "metadata": {},
   "outputs": [
    {
     "data": {
      "text/html": [
       "<div>\n",
       "<style scoped>\n",
       "    .dataframe tbody tr th:only-of-type {\n",
       "        vertical-align: middle;\n",
       "    }\n",
       "\n",
       "    .dataframe tbody tr th {\n",
       "        vertical-align: top;\n",
       "    }\n",
       "\n",
       "    .dataframe thead th {\n",
       "        text-align: right;\n",
       "    }\n",
       "</style>\n",
       "<table border=\"1\" class=\"dataframe\">\n",
       "  <thead>\n",
       "    <tr style=\"text-align: right;\">\n",
       "      <th></th>\n",
       "      <th>id</th>\n",
       "      <th>member_id</th>\n",
       "      <th>loan_amnt</th>\n",
       "      <th>funded_amnt</th>\n",
       "      <th>funded_amnt_inv</th>\n",
       "      <th>term</th>\n",
       "      <th>int_rate</th>\n",
       "      <th>installment</th>\n",
       "      <th>grade</th>\n",
       "      <th>sub_grade</th>\n",
       "      <th>...</th>\n",
       "      <th>num_tl_90g_dpd_24m</th>\n",
       "      <th>num_tl_op_past_12m</th>\n",
       "      <th>pct_tl_nvr_dlq</th>\n",
       "      <th>percent_bc_gt_75</th>\n",
       "      <th>pub_rec_bankruptcies</th>\n",
       "      <th>tax_liens</th>\n",
       "      <th>tot_hi_cred_lim</th>\n",
       "      <th>total_bal_ex_mort</th>\n",
       "      <th>total_bc_limit</th>\n",
       "      <th>total_il_high_credit_limit</th>\n",
       "    </tr>\n",
       "  </thead>\n",
       "  <tbody>\n",
       "  </tbody>\n",
       "</table>\n",
       "<p>0 rows × 111 columns</p>\n",
       "</div>"
      ],
      "text/plain": [
       "Empty DataFrame\n",
       "Columns: [id, member_id, loan_amnt, funded_amnt, funded_amnt_inv, term, int_rate, installment, grade, sub_grade, emp_title, emp_length, home_ownership, annual_inc, verification_status, issue_d, loan_status, pymnt_plan, url, desc, purpose, title, zip_code, addr_state, dti, delinq_2yrs, earliest_cr_line, inq_last_6mths, mths_since_last_delinq, mths_since_last_record, open_acc, pub_rec, revol_bal, revol_util, total_acc, initial_list_status, out_prncp, out_prncp_inv, total_pymnt, total_pymnt_inv, total_rec_prncp, total_rec_int, total_rec_late_fee, recoveries, collection_recovery_fee, last_pymnt_d, last_pymnt_amnt, next_pymnt_d, last_credit_pull_d, collections_12_mths_ex_med, mths_since_last_major_derog, policy_code, application_type, annual_inc_joint, dti_joint, verification_status_joint, acc_now_delinq, tot_coll_amt, tot_cur_bal, open_acc_6m, open_il_6m, open_il_12m, open_il_24m, mths_since_rcnt_il, total_bal_il, il_util, open_rv_12m, open_rv_24m, max_bal_bc, all_util, total_rev_hi_lim, inq_fi, total_cu_tl, inq_last_12m, acc_open_past_24mths, avg_cur_bal, bc_open_to_buy, bc_util, chargeoff_within_12_mths, delinq_amnt, mo_sin_old_il_acct, mo_sin_old_rev_tl_op, mo_sin_rcnt_rev_tl_op, mo_sin_rcnt_tl, mort_acc, mths_since_recent_bc, mths_since_recent_bc_dlq, mths_since_recent_inq, mths_since_recent_revol_delinq, num_accts_ever_120_pd, num_actv_bc_tl, num_actv_rev_tl, num_bc_sats, num_bc_tl, num_il_tl, num_op_rev_tl, num_rev_accts, num_rev_tl_bal_gt_0, num_sats, num_tl_120dpd_2m, ...]\n",
       "Index: []\n",
       "\n",
       "[0 rows x 111 columns]"
      ]
     },
     "execution_count": 3,
     "metadata": {},
     "output_type": "execute_result"
    }
   ],
   "source": [
    "raw_loan_data[raw_loan_data['id'].duplicated(keep='first')]"
   ]
  },
  {
   "cell_type": "markdown",
   "id": "df9e9091",
   "metadata": {},
   "source": [
    "As per above step, we do not found any 'id' is duplicate in record"
   ]
  },
  {
   "cell_type": "markdown",
   "id": "a28b3afc",
   "metadata": {},
   "source": [
    "## Select neccessory columns for analysis"
   ]
  },
  {
   "cell_type": "code",
   "execution_count": 4,
   "id": "189fd1ed",
   "metadata": {},
   "outputs": [
    {
     "data": {
      "text/plain": [
       "(39717, 16)"
      ]
     },
     "execution_count": 4,
     "metadata": {},
     "output_type": "execute_result"
    }
   ],
   "source": [
    "loan_data = raw_loan_data.loc[:, ['id', 'loan_amnt', 'funded_amnt', 'funded_amnt_inv', 'annual_inc', 'int_rate', 'installment', 'loan_status', 'grade', 'sub_grade', 'dti', 'verification_status', 'term', 'home_ownership', 'purpose', 'addr_state']]\n",
    "loan_data.shape"
   ]
  },
  {
   "cell_type": "code",
   "execution_count": 5,
   "id": "f10404b8",
   "metadata": {},
   "outputs": [
    {
     "data": {
      "text/html": [
       "<div>\n",
       "<style scoped>\n",
       "    .dataframe tbody tr th:only-of-type {\n",
       "        vertical-align: middle;\n",
       "    }\n",
       "\n",
       "    .dataframe tbody tr th {\n",
       "        vertical-align: top;\n",
       "    }\n",
       "\n",
       "    .dataframe thead th {\n",
       "        text-align: right;\n",
       "    }\n",
       "</style>\n",
       "<table border=\"1\" class=\"dataframe\">\n",
       "  <thead>\n",
       "    <tr style=\"text-align: right;\">\n",
       "      <th></th>\n",
       "      <th>id</th>\n",
       "      <th>loan_amnt</th>\n",
       "      <th>funded_amnt</th>\n",
       "      <th>funded_amnt_inv</th>\n",
       "      <th>annual_inc</th>\n",
       "      <th>int_rate</th>\n",
       "      <th>installment</th>\n",
       "      <th>loan_status</th>\n",
       "      <th>grade</th>\n",
       "      <th>sub_grade</th>\n",
       "      <th>dti</th>\n",
       "      <th>verification_status</th>\n",
       "      <th>term</th>\n",
       "      <th>home_ownership</th>\n",
       "      <th>purpose</th>\n",
       "      <th>addr_state</th>\n",
       "    </tr>\n",
       "  </thead>\n",
       "  <tbody>\n",
       "    <tr>\n",
       "      <th>0</th>\n",
       "      <td>1077501</td>\n",
       "      <td>5000</td>\n",
       "      <td>5000</td>\n",
       "      <td>4975.0</td>\n",
       "      <td>24000.0</td>\n",
       "      <td>10.65%</td>\n",
       "      <td>162.87</td>\n",
       "      <td>Fully Paid</td>\n",
       "      <td>B</td>\n",
       "      <td>B2</td>\n",
       "      <td>27.65</td>\n",
       "      <td>Verified</td>\n",
       "      <td>36 months</td>\n",
       "      <td>RENT</td>\n",
       "      <td>credit_card</td>\n",
       "      <td>AZ</td>\n",
       "    </tr>\n",
       "    <tr>\n",
       "      <th>1</th>\n",
       "      <td>1077430</td>\n",
       "      <td>2500</td>\n",
       "      <td>2500</td>\n",
       "      <td>2500.0</td>\n",
       "      <td>30000.0</td>\n",
       "      <td>15.27%</td>\n",
       "      <td>59.83</td>\n",
       "      <td>Charged Off</td>\n",
       "      <td>C</td>\n",
       "      <td>C4</td>\n",
       "      <td>1.00</td>\n",
       "      <td>Source Verified</td>\n",
       "      <td>60 months</td>\n",
       "      <td>RENT</td>\n",
       "      <td>car</td>\n",
       "      <td>GA</td>\n",
       "    </tr>\n",
       "    <tr>\n",
       "      <th>2</th>\n",
       "      <td>1077175</td>\n",
       "      <td>2400</td>\n",
       "      <td>2400</td>\n",
       "      <td>2400.0</td>\n",
       "      <td>12252.0</td>\n",
       "      <td>15.96%</td>\n",
       "      <td>84.33</td>\n",
       "      <td>Fully Paid</td>\n",
       "      <td>C</td>\n",
       "      <td>C5</td>\n",
       "      <td>8.72</td>\n",
       "      <td>Not Verified</td>\n",
       "      <td>36 months</td>\n",
       "      <td>RENT</td>\n",
       "      <td>small_business</td>\n",
       "      <td>IL</td>\n",
       "    </tr>\n",
       "    <tr>\n",
       "      <th>3</th>\n",
       "      <td>1076863</td>\n",
       "      <td>10000</td>\n",
       "      <td>10000</td>\n",
       "      <td>10000.0</td>\n",
       "      <td>49200.0</td>\n",
       "      <td>13.49%</td>\n",
       "      <td>339.31</td>\n",
       "      <td>Fully Paid</td>\n",
       "      <td>C</td>\n",
       "      <td>C1</td>\n",
       "      <td>20.00</td>\n",
       "      <td>Source Verified</td>\n",
       "      <td>36 months</td>\n",
       "      <td>RENT</td>\n",
       "      <td>other</td>\n",
       "      <td>CA</td>\n",
       "    </tr>\n",
       "    <tr>\n",
       "      <th>4</th>\n",
       "      <td>1075358</td>\n",
       "      <td>3000</td>\n",
       "      <td>3000</td>\n",
       "      <td>3000.0</td>\n",
       "      <td>80000.0</td>\n",
       "      <td>12.69%</td>\n",
       "      <td>67.79</td>\n",
       "      <td>Current</td>\n",
       "      <td>B</td>\n",
       "      <td>B5</td>\n",
       "      <td>17.94</td>\n",
       "      <td>Source Verified</td>\n",
       "      <td>60 months</td>\n",
       "      <td>RENT</td>\n",
       "      <td>other</td>\n",
       "      <td>OR</td>\n",
       "    </tr>\n",
       "  </tbody>\n",
       "</table>\n",
       "</div>"
      ],
      "text/plain": [
       "        id  loan_amnt  funded_amnt  funded_amnt_inv  annual_inc int_rate  \\\n",
       "0  1077501       5000         5000           4975.0     24000.0   10.65%   \n",
       "1  1077430       2500         2500           2500.0     30000.0   15.27%   \n",
       "2  1077175       2400         2400           2400.0     12252.0   15.96%   \n",
       "3  1076863      10000        10000          10000.0     49200.0   13.49%   \n",
       "4  1075358       3000         3000           3000.0     80000.0   12.69%   \n",
       "\n",
       "   installment  loan_status grade sub_grade    dti verification_status  \\\n",
       "0       162.87   Fully Paid     B        B2  27.65            Verified   \n",
       "1        59.83  Charged Off     C        C4   1.00     Source Verified   \n",
       "2        84.33   Fully Paid     C        C5   8.72        Not Verified   \n",
       "3       339.31   Fully Paid     C        C1  20.00     Source Verified   \n",
       "4        67.79      Current     B        B5  17.94     Source Verified   \n",
       "\n",
       "         term home_ownership         purpose addr_state  \n",
       "0   36 months           RENT     credit_card         AZ  \n",
       "1   60 months           RENT             car         GA  \n",
       "2   36 months           RENT  small_business         IL  \n",
       "3   36 months           RENT           other         CA  \n",
       "4   60 months           RENT           other         OR  "
      ]
     },
     "execution_count": 5,
     "metadata": {},
     "output_type": "execute_result"
    }
   ],
   "source": [
    "loan_data.head()"
   ]
  },
  {
   "cell_type": "markdown",
   "id": "8a1e696e",
   "metadata": {},
   "source": [
    "## Filter Data\n",
    "- Check if any column have null value\n",
    "- Correct Datatype / Units Conversion\n",
    "\n",
    "**Analysis:**\n",
    "\n",
    "Data type is coming as expected for each column"
   ]
  },
  {
   "cell_type": "markdown",
   "id": "d8f88080",
   "metadata": {},
   "source": [
    "## No multi datatype column detected\n",
    "## No Unit conversion required for selected columns"
   ]
  },
  {
   "cell_type": "code",
   "execution_count": 6,
   "id": "29fa3015",
   "metadata": {},
   "outputs": [
    {
     "name": "stdout",
     "output_type": "stream",
     "text": [
      "<class 'pandas.core.frame.DataFrame'>\n",
      "RangeIndex: 39717 entries, 0 to 39716\n",
      "Data columns (total 16 columns):\n",
      " #   Column               Non-Null Count  Dtype  \n",
      "---  ------               --------------  -----  \n",
      " 0   id                   39717 non-null  int64  \n",
      " 1   loan_amnt            39717 non-null  int64  \n",
      " 2   funded_amnt          39717 non-null  int64  \n",
      " 3   funded_amnt_inv      39717 non-null  float64\n",
      " 4   annual_inc           39717 non-null  float64\n",
      " 5   int_rate             39717 non-null  object \n",
      " 6   installment          39717 non-null  float64\n",
      " 7   loan_status          39717 non-null  object \n",
      " 8   grade                39717 non-null  object \n",
      " 9   sub_grade            39717 non-null  object \n",
      " 10  dti                  39717 non-null  float64\n",
      " 11  verification_status  39717 non-null  object \n",
      " 12  term                 39717 non-null  object \n",
      " 13  home_ownership       39717 non-null  object \n",
      " 14  purpose              39717 non-null  object \n",
      " 15  addr_state           39717 non-null  object \n",
      "dtypes: float64(4), int64(3), object(9)\n",
      "memory usage: 4.8+ MB\n"
     ]
    }
   ],
   "source": [
    "loan_data.iloc[:, 0:100].info()"
   ]
  },
  {
   "cell_type": "code",
   "execution_count": 7,
   "id": "2c687e6c",
   "metadata": {},
   "outputs": [],
   "source": [
    "#loan_data.describe()"
   ]
  },
  {
   "cell_type": "code",
   "execution_count": 8,
   "id": "d9b14019",
   "metadata": {},
   "outputs": [],
   "source": [
    "#loan_data.corr()"
   ]
  },
  {
   "cell_type": "code",
   "execution_count": null,
   "id": "004dfd99",
   "metadata": {},
   "outputs": [],
   "source": []
  },
  {
   "cell_type": "markdown",
   "id": "7e11af01",
   "metadata": {},
   "source": [
    "# Univariate Analysis:"
   ]
  },
  {
   "cell_type": "code",
   "execution_count": 9,
   "id": "8462dc14",
   "metadata": {},
   "outputs": [],
   "source": [
    "import matplotlib.pyplot as plt\n",
    "import seaborn as sns"
   ]
  },
  {
   "cell_type": "markdown",
   "id": "b974ca9a",
   "metadata": {},
   "source": [
    "## Customer count for each loan status"
   ]
  },
  {
   "cell_type": "code",
   "execution_count": 10,
   "id": "4ee43a82",
   "metadata": {},
   "outputs": [
    {
     "data": {
      "image/png": "[encoded data removed]",
      "text/plain": [
       "<Figure size 432x288 with 1 Axes>"
      ]
     },
     "metadata": {
      "needs_background": "light"
     },
     "output_type": "display_data"
    }
   ],
   "source": [
    "# take loan status variable vs occurance of the value\n",
    "X = loan_data['loan_status'].value_counts().index.values\n",
    "Y = loan_data['loan_status'].value_counts().values\n",
    "chart1 = plt.bar(X, Y, label='Count', width=0.2)\n",
    "\n",
    "# Adding and formatting title\n",
    "plt.title(\"Loan Status Chart\\n\", fontdict={'fontsize': 20, 'fontweight' : 5, 'color' : 'Green'})\n",
    "\n",
    "# Labeling Axes\n",
    "plt.xlabel(\"Number of customer\", fontdict={'fontsize': 12, 'fontweight' : 5, 'color' : 'Brown'})\n",
    "plt.ylabel(\"Loan Status\", fontdict={'fontsize': 12, 'fontweight' : 5, 'color' : 'Brown'})\n",
    "\n",
    "# Add count number for each bar candle\n",
    "plt.bar_label(chart1, fmt='%d')\n",
    "\n",
    "plt.legend()\n",
    "plt.show()"
   ]
  },
  {
   "cell_type": "markdown",
   "id": "a3c7cc89",
   "metadata": {},
   "source": [
    "## Purpose of loan bar graph"
   ]
  },
  {
   "cell_type": "code",
   "execution_count": 11,
   "id": "21ffbd2f",
   "metadata": {},
   "outputs": [
    {
     "data": {
      "image/png": "[encoded data removed]",
      "text/plain": [
       "<Figure size 864x576 with 1 Axes>"
      ]
     },
     "metadata": {
      "needs_background": "light"
     },
     "output_type": "display_data"
    }
   ],
   "source": [
    "plt.figure(figsize=[12, 8])\n",
    "\n",
    "# take purpose variable vs occurance of the value\n",
    "X = loan_data['purpose'].value_counts().index.values\n",
    "Y = loan_data['purpose'].value_counts().values\n",
    "chart1 = plt.bar(X, Y, label='Count', width=0.4, color='Green')\n",
    "\n",
    "# Adding and formatting title\n",
    "plt.title(\"Purpose for loan\\n\", fontdict={'fontsize': 20, 'fontweight' : 5, 'color' : 'Black'})\n",
    "\n",
    "# Labeling Axes\n",
    "plt.xlabel(\"Purpose\", fontdict={'fontsize': 15, 'fontweight' : 5, 'color' : 'Brown'})\n",
    "plt.ylabel(\"Occurance\", fontdict={'fontsize': 15, 'fontweight' : 5, 'color' : 'Brown'})\n",
    "\n",
    "plt.xticks(rotation=60)\n",
    "\n",
    "# Add count number for each bar candle\n",
    "plt.bar_label(chart1, fmt='%d')\n",
    "\n",
    "plt.legend(prop={\"size\":16})\n",
    "plt.show()"
   ]
  },
  {
   "cell_type": "markdown",
   "id": "4d0fbffd",
   "metadata": {},
   "source": [
    "## State wise Loan applications"
   ]
  },
  {
   "cell_type": "code",
   "execution_count": 12,
   "id": "5d8b1316",
   "metadata": {},
   "outputs": [
    {
     "data": {
      "image/png": "[encoded data removed]",
      "text/plain": [
       "<Figure size 1080x720 with 1 Axes>"
      ]
     },
     "metadata": {
      "needs_background": "light"
     },
     "output_type": "display_data"
    }
   ],
   "source": [
    "plt.figure(figsize=[15, 10])\n",
    "\n",
    "# take state code variable vs occurance of the value\n",
    "X = loan_data['addr_state'].value_counts().index.values\n",
    "Y = loan_data['addr_state'].value_counts().values\n",
    "chart1 = plt.bar(X, Y, label='Count', width=0.6, color='Green')\n",
    "\n",
    "# Adding and formatting title\n",
    "plt.title(\"State-wise Loan Applications\\n\", fontdict={'fontsize': 20, 'fontweight' : 5, 'color' : 'Black'})\n",
    "\n",
    "# Labeling Axes\n",
    "plt.xlabel(\"State\", fontdict={'fontsize': 15, 'fontweight' : 5, 'color' : 'Brown'})\n",
    "plt.ylabel(\"Occurance\", fontdict={'fontsize': 15, 'fontweight' : 5, 'color' : 'Brown'})\n",
    "\n",
    "plt.xticks(rotation=45)\n",
    "\n",
    "# Add count number for each bar candle\n",
    "plt.bar_label(chart1, fmt='%d', rotation=45)\n",
    "\n",
    "plt.legend(prop={\"size\":16})\n",
    "plt.show()"
   ]
  },
  {
   "cell_type": "markdown",
   "id": "919b984f",
   "metadata": {},
   "source": [
    "## Customer Count for both Tenure of loan"
   ]
  },
  {
   "cell_type": "code",
   "execution_count": 13,
   "id": "fee0436a",
   "metadata": {},
   "outputs": [
    {
     "data": {
      "image/png": "[encoded data removed]",
      "text/plain": [
       "<Figure size 432x288 with 1 Axes>"
      ]
     },
     "metadata": {
      "needs_background": "light"
     },
     "output_type": "display_data"
    }
   ],
   "source": [
    "# take ter variable vs occurance of the value\n",
    "X = loan_data['term'].value_counts().index.values\n",
    "Y = loan_data['term'].value_counts().values\n",
    "chart1 = plt.bar(X, Y, label='Count', width=0.3, color='Orange')\n",
    "\n",
    "# Adding and formatting title\n",
    "plt.title(\"Tenure of Loan\\n\", fontdict={'fontsize': 20, 'fontweight' : 5, 'color' : 'Black'})\n",
    "\n",
    "# Labeling Axes\n",
    "plt.xlabel(\"Term\", fontdict={'fontsize': 15, 'fontweight' : 5, 'color' : 'Brown'})\n",
    "plt.ylabel(\"Occurance\", fontdict={'fontsize': 15, 'fontweight' : 5, 'color' : 'Brown'})\n",
    "\n",
    "plt.xticks(rotation=45)\n",
    "\n",
    "# Add count number for each bar candle\n",
    "plt.bar_label(chart1, fmt='%d')\n",
    "\n",
    "plt.legend(prop={\"size\":16})\n",
    "plt.show()"
   ]
  },
  {
   "cell_type": "markdown",
   "id": "ce97c622",
   "metadata": {},
   "source": [
    "## Borrower's Distribution with different dti"
   ]
  },
  {
   "cell_type": "code",
   "execution_count": 14,
   "id": "f974c112",
   "metadata": {
    "scrolled": true
   },
   "outputs": [
    {
     "data": {
      "image/png": "[encoded data removed]",
      "text/plain": [
       "<Figure size 432x288 with 1 Axes>"
      ]
     },
     "metadata": {
      "needs_background": "light"
     },
     "output_type": "display_data"
    }
   ],
   "source": [
    "plt.hist(loan_data['dti'], bins=10)\n",
    "plt.xticks(np.arange(0,31,3))\n",
    "\n",
    "# Adding and formatting title\n",
    "plt.title(\"Borrower's distribution with different dti\\n\", fontdict={'fontsize': 20, 'fontweight' : 5, 'color' : 'Black'})\n",
    "\n",
    "# Labeling Axes\n",
    "plt.xlabel(\"Range\", fontdict={'fontsize': 15, 'fontweight' : 5, 'color' : 'Brown'})\n",
    "plt.ylabel(\"Occurance\", fontdict={'fontsize': 15, 'fontweight' : 5, 'color' : 'Brown'})\n",
    "\n",
    "plt.show()"
   ]
  },
  {
   "cell_type": "code",
   "execution_count": null,
   "id": "52290d15",
   "metadata": {},
   "outputs": [],
   "source": []
  },
  {
   "cell_type": "code",
   "execution_count": null,
   "id": "d671a722",
   "metadata": {},
   "outputs": [],
   "source": []
  },
  {
   "cell_type": "code",
   "execution_count": null,
   "id": "0d2aeb48",
   "metadata": {},
   "outputs": [],
   "source": []
  },
  {
   "cell_type": "markdown",
   "id": "869e9e1e",
   "metadata": {},
   "source": [
    "# Bivariate Analysis:"
   ]
  },
  {
   "cell_type": "markdown",
   "id": "3f9f751e",
   "metadata": {},
   "source": [
    "##### The member whose loan is \"Current\" should be not analysed for this study,\n",
    "\n",
    "##### Hence we should remove them as a \"not required rows\""
   ]
  },
  {
   "cell_type": "code",
   "execution_count": 15,
   "id": "bf2dfac2",
   "metadata": {},
   "outputs": [],
   "source": [
    "# Currently running loan status member removed from analysis data\n",
    "loan_data = loan_data[loan_data[\"loan_status\"] != 'Current']"
   ]
  },
  {
   "cell_type": "code",
   "execution_count": 16,
   "id": "15d7612b",
   "metadata": {},
   "outputs": [
    {
     "data": {
      "text/html": [
       "<div>\n",
       "<style scoped>\n",
       "    .dataframe tbody tr th:only-of-type {\n",
       "        vertical-align: middle;\n",
       "    }\n",
       "\n",
       "    .dataframe tbody tr th {\n",
       "        vertical-align: top;\n",
       "    }\n",
       "\n",
       "    .dataframe thead th {\n",
       "        text-align: right;\n",
       "    }\n",
       "</style>\n",
       "<table border=\"1\" class=\"dataframe\">\n",
       "  <thead>\n",
       "    <tr style=\"text-align: right;\">\n",
       "      <th></th>\n",
       "      <th>id</th>\n",
       "      <th>loan_amnt</th>\n",
       "      <th>funded_amnt</th>\n",
       "      <th>funded_amnt_inv</th>\n",
       "      <th>annual_inc</th>\n",
       "      <th>int_rate</th>\n",
       "      <th>installment</th>\n",
       "      <th>loan_status</th>\n",
       "      <th>grade</th>\n",
       "      <th>sub_grade</th>\n",
       "      <th>dti</th>\n",
       "      <th>verification_status</th>\n",
       "      <th>term</th>\n",
       "      <th>home_ownership</th>\n",
       "      <th>purpose</th>\n",
       "      <th>addr_state</th>\n",
       "    </tr>\n",
       "  </thead>\n",
       "  <tbody>\n",
       "    <tr>\n",
       "      <th>0</th>\n",
       "      <td>1077501</td>\n",
       "      <td>5000</td>\n",
       "      <td>5000</td>\n",
       "      <td>4975.0</td>\n",
       "      <td>24000.0</td>\n",
       "      <td>10.65%</td>\n",
       "      <td>162.87</td>\n",
       "      <td>Fully Paid</td>\n",
       "      <td>B</td>\n",
       "      <td>B2</td>\n",
       "      <td>27.65</td>\n",
       "      <td>Verified</td>\n",
       "      <td>36 months</td>\n",
       "      <td>RENT</td>\n",
       "      <td>credit_card</td>\n",
       "      <td>AZ</td>\n",
       "    </tr>\n",
       "    <tr>\n",
       "      <th>1</th>\n",
       "      <td>1077430</td>\n",
       "      <td>2500</td>\n",
       "      <td>2500</td>\n",
       "      <td>2500.0</td>\n",
       "      <td>30000.0</td>\n",
       "      <td>15.27%</td>\n",
       "      <td>59.83</td>\n",
       "      <td>Charged Off</td>\n",
       "      <td>C</td>\n",
       "      <td>C4</td>\n",
       "      <td>1.00</td>\n",
       "      <td>Source Verified</td>\n",
       "      <td>60 months</td>\n",
       "      <td>RENT</td>\n",
       "      <td>car</td>\n",
       "      <td>GA</td>\n",
       "    </tr>\n",
       "    <tr>\n",
       "      <th>2</th>\n",
       "      <td>1077175</td>\n",
       "      <td>2400</td>\n",
       "      <td>2400</td>\n",
       "      <td>2400.0</td>\n",
       "      <td>12252.0</td>\n",
       "      <td>15.96%</td>\n",
       "      <td>84.33</td>\n",
       "      <td>Fully Paid</td>\n",
       "      <td>C</td>\n",
       "      <td>C5</td>\n",
       "      <td>8.72</td>\n",
       "      <td>Not Verified</td>\n",
       "      <td>36 months</td>\n",
       "      <td>RENT</td>\n",
       "      <td>small_business</td>\n",
       "      <td>IL</td>\n",
       "    </tr>\n",
       "    <tr>\n",
       "      <th>3</th>\n",
       "      <td>1076863</td>\n",
       "      <td>10000</td>\n",
       "      <td>10000</td>\n",
       "      <td>10000.0</td>\n",
       "      <td>49200.0</td>\n",
       "      <td>13.49%</td>\n",
       "      <td>339.31</td>\n",
       "      <td>Fully Paid</td>\n",
       "      <td>C</td>\n",
       "      <td>C1</td>\n",
       "      <td>20.00</td>\n",
       "      <td>Source Verified</td>\n",
       "      <td>36 months</td>\n",
       "      <td>RENT</td>\n",
       "      <td>other</td>\n",
       "      <td>CA</td>\n",
       "    </tr>\n",
       "    <tr>\n",
       "      <th>5</th>\n",
       "      <td>1075269</td>\n",
       "      <td>5000</td>\n",
       "      <td>5000</td>\n",
       "      <td>5000.0</td>\n",
       "      <td>36000.0</td>\n",
       "      <td>7.90%</td>\n",
       "      <td>156.46</td>\n",
       "      <td>Fully Paid</td>\n",
       "      <td>A</td>\n",
       "      <td>A4</td>\n",
       "      <td>11.20</td>\n",
       "      <td>Source Verified</td>\n",
       "      <td>36 months</td>\n",
       "      <td>RENT</td>\n",
       "      <td>wedding</td>\n",
       "      <td>AZ</td>\n",
       "    </tr>\n",
       "  </tbody>\n",
       "</table>\n",
       "</div>"
      ],
      "text/plain": [
       "        id  loan_amnt  funded_amnt  funded_amnt_inv  annual_inc int_rate  \\\n",
       "0  1077501       5000         5000           4975.0     24000.0   10.65%   \n",
       "1  1077430       2500         2500           2500.0     30000.0   15.27%   \n",
       "2  1077175       2400         2400           2400.0     12252.0   15.96%   \n",
       "3  1076863      10000        10000          10000.0     49200.0   13.49%   \n",
       "5  1075269       5000         5000           5000.0     36000.0    7.90%   \n",
       "\n",
       "   installment  loan_status grade sub_grade    dti verification_status  \\\n",
       "0       162.87   Fully Paid     B        B2  27.65            Verified   \n",
       "1        59.83  Charged Off     C        C4   1.00     Source Verified   \n",
       "2        84.33   Fully Paid     C        C5   8.72        Not Verified   \n",
       "3       339.31   Fully Paid     C        C1  20.00     Source Verified   \n",
       "5       156.46   Fully Paid     A        A4  11.20     Source Verified   \n",
       "\n",
       "         term home_ownership         purpose addr_state  \n",
       "0   36 months           RENT     credit_card         AZ  \n",
       "1   60 months           RENT             car         GA  \n",
       "2   36 months           RENT  small_business         IL  \n",
       "3   36 months           RENT           other         CA  \n",
       "5   36 months           RENT         wedding         AZ  "
      ]
     },
     "execution_count": 16,
     "metadata": {},
     "output_type": "execute_result"
    }
   ],
   "source": [
    "loan_data.head()"
   ]
  },
  {
   "cell_type": "code",
   "execution_count": null,
   "id": "0e2e68b9",
   "metadata": {},
   "outputs": [],
   "source": []
  },
  {
   "cell_type": "markdown",
   "id": "867b49e2",
   "metadata": {},
   "source": [
    "## Annual Income for each Grade borrowers"
   ]
  },
  {
   "cell_type": "code",
   "execution_count": 17,
   "id": "0ce96063",
   "metadata": {},
   "outputs": [
    {
     "data": {
      "image/png": "[encoded data removed]",
      "text/plain": [
       "<Figure size 576x432 with 1 Axes>"
      ]
     },
     "metadata": {
      "needs_background": "light"
     },
     "output_type": "display_data"
    }
   ],
   "source": [
    "plt.figure(figsize=[8, 6])\n",
    "\n",
    "# showfliers=False will remove outliers from graph\n",
    "plt.boxplot([loan_data.loc[loan_data['grade'] == 'A', 'annual_inc'], \n",
    "             loan_data.loc[loan_data['grade'] == 'B', 'annual_inc'],\n",
    "             loan_data.loc[loan_data['grade'] == 'C', 'annual_inc'],\n",
    "             loan_data.loc[loan_data['grade'] == 'D', 'annual_inc'],\n",
    "             loan_data.loc[loan_data['grade'] == 'E', 'annual_inc'],\n",
    "             loan_data.loc[loan_data['grade'] == 'F', 'annual_inc'],\n",
    "             loan_data.loc[loan_data['grade'] == 'G', 'annual_inc']], \n",
    "            showfliers=False, widths=(0.6))\n",
    "\n",
    "# Adding and formatting title\n",
    "plt.title(\"Sales across Countries and Product Categories\\n\", fontdict={'fontsize': 20, 'fontweight' : 5, 'color' : 'Green'})\n",
    "\n",
    "# Labeling Axes\n",
    "plt.xlabel(\"Income Distribution\", fontdict={'fontsize': 15, 'fontweight' : 10, 'color' : 'Brown'})\n",
    "plt.ylabel(\"Annual Income\", fontdict={'fontsize': 15, 'fontweight' : 10, 'color' : 'Brown'})\n",
    "\n",
    "plt.xticks((1,2,3,4,5,6,7),[\"Grade A\", \"Grade B\", \"Grade C\", \"Grade D\", \"Grade E\", \"Grade F\", \"Grade G\"])\n",
    "\n",
    "plt.show()"
   ]
  },
  {
   "cell_type": "markdown",
   "id": "4ece44e5",
   "metadata": {},
   "source": [
    "## Bar Graph for Grade vs loan status\n",
    "\n",
    "This graph tell about Grade/Annual Income relation with Loan Status\n",
    "\n",
    "**Analysis:**\n",
    "\n",
    "**High Annual income individual not neccessorily successfully able to fully pay the loan.**\n",
    "\n",
    "In below graph we can observe,\n",
    "- Lower income then **Grade G** borrowers successfully able to fully pay the loan as per **Grade A**\n",
    "\n",
    "Further analysis require to find exact relation of Grade on Loan default"
   ]
  },
  {
   "cell_type": "code",
   "execution_count": 18,
   "id": "4bab0cd6",
   "metadata": {},
   "outputs": [],
   "source": [
    "dfg = loan_data.groupby(by=['grade', 'loan_status']).mean()\n",
    "dfg = dfg.drop(columns=['id', 'dti', 'installment', 'loan_amnt', 'funded_amnt', 'funded_amnt_inv'])\n",
    "#dfg\n"
   ]
  },
  {
   "cell_type": "code",
   "execution_count": 19,
   "id": "cb35efca",
   "metadata": {},
   "outputs": [
    {
     "data": {
      "image/png": "[encoded data removed]",
      "text/plain": [
       "<Figure size 720x576 with 1 Axes>"
      ]
     },
     "metadata": {
      "needs_background": "light"
     },
     "output_type": "display_data"
    }
   ],
   "source": [
    "plot = dfg.plot(kind='bar', title='Analysis with Grade', ylabel='Annual Income',\n",
    "         xlabel='Grade, Loan Status', figsize=(10, 8), subplots=True, rot=45)\n"
   ]
  },
  {
   "cell_type": "code",
   "execution_count": null,
   "id": "bc07395f",
   "metadata": {},
   "outputs": [],
   "source": []
  },
  {
   "cell_type": "code",
   "execution_count": null,
   "id": "5ace8ba6",
   "metadata": {},
   "outputs": [],
   "source": []
  },
  {
   "cell_type": "markdown",
   "id": "bbf9420b",
   "metadata": {},
   "source": [
    "##### Defining Custom function for further Percentage diagrams"
   ]
  },
  {
   "cell_type": "code",
   "execution_count": 20,
   "id": "088a6f41",
   "metadata": {},
   "outputs": [],
   "source": [
    "# Defining fuction for percentage bar graph drawing\n",
    "\n",
    "# Brief : This function will create Bar diagram,\n",
    "# Should be used for showing report in percentage\n",
    "def draw_percentage_bar_chart(X, Y, title_str, xlabel, ylabel):\n",
    "    chart1 = plt.bar(X, Y, label='Count', width=0.2, color='Red')\n",
    "\n",
    "    # Adding and formatting title\n",
    "    plt.title(title_str, fontdict={'fontsize': 20, 'fontweight' : 5, 'color' : 'Black'})\n",
    "\n",
    "    # Labeling Axes\n",
    "    plt.xlabel(xlabel, fontdict={'fontsize': 15, 'fontweight' : 5, 'color' : 'Brown'})\n",
    "    plt.ylabel(ylabel, fontdict={'fontsize': 15, 'fontweight' : 5, 'color' : 'Brown'})\n",
    "\n",
    "    plt.xticks(rotation=45)\n",
    "\n",
    "    # Add count number for each bar candle\n",
    "    plt.bar_label(chart1, fmt='%d %%')\n",
    "\n",
    "    plt.legend(prop={\"size\":16})\n",
    "    plt.show()"
   ]
  },
  {
   "cell_type": "markdown",
   "id": "d1ad9990",
   "metadata": {},
   "source": [
    "## Grade VS Loan status\n",
    "\n",
    "This graph tell about Grade VS Loan Status relationship\n",
    "\n",
    "Grade\n",
    "\n",
    "**Analysis:**\n",
    "- For loan status catogory, grade is showing relation. The higher the grade higher the chances of fully paying the loan amount."
   ]
  },
  {
   "cell_type": "code",
   "execution_count": 21,
   "id": "e9a3f65e",
   "metadata": {},
   "outputs": [],
   "source": [
    "pivot_grade_data = loan_data.loc[:, ['grade', 'loan_status']]\n",
    "df_pivot_grade = pd.pivot_table(pivot_grade_data, index=['grade'], columns= ['loan_status'], aggfunc= len)\n",
    "\n",
    "#pivot_data"
   ]
  },
  {
   "cell_type": "code",
   "execution_count": 22,
   "id": "797fefc5",
   "metadata": {},
   "outputs": [
    {
     "data": {
      "image/png": "[encoded data removed]",
      "text/plain": [
       "<Figure size 504x360 with 1 Axes>"
      ]
     },
     "metadata": {
      "needs_background": "light"
     },
     "output_type": "display_data"
    }
   ],
   "source": [
    "plot = df_pivot_grade.plot(kind='bar', title='Analysis on Grade of borrower', ylabel='Loan Status',\n",
    "         xlabel='Grade', figsize=(7, 5), fontsize=12, rot=0)"
   ]
  },
  {
   "cell_type": "code",
   "execution_count": 23,
   "id": "9f66862e",
   "metadata": {},
   "outputs": [
    {
     "data": {
      "text/html": [
       "<div>\n",
       "<style scoped>\n",
       "    .dataframe tbody tr th:only-of-type {\n",
       "        vertical-align: middle;\n",
       "    }\n",
       "\n",
       "    .dataframe tbody tr th {\n",
       "        vertical-align: top;\n",
       "    }\n",
       "\n",
       "    .dataframe thead th {\n",
       "        text-align: right;\n",
       "    }\n",
       "</style>\n",
       "<table border=\"1\" class=\"dataframe\">\n",
       "  <thead>\n",
       "    <tr style=\"text-align: right;\">\n",
       "      <th>loan_status</th>\n",
       "      <th>Ratio Percentage</th>\n",
       "    </tr>\n",
       "    <tr>\n",
       "      <th>grade</th>\n",
       "      <th></th>\n",
       "    </tr>\n",
       "  </thead>\n",
       "  <tbody>\n",
       "    <tr>\n",
       "      <th>A</th>\n",
       "      <td>6.38</td>\n",
       "    </tr>\n",
       "    <tr>\n",
       "      <th>B</th>\n",
       "      <td>13.90</td>\n",
       "    </tr>\n",
       "    <tr>\n",
       "      <th>C</th>\n",
       "      <td>20.76</td>\n",
       "    </tr>\n",
       "    <tr>\n",
       "      <th>D</th>\n",
       "      <td>28.18</td>\n",
       "    </tr>\n",
       "    <tr>\n",
       "      <th>E</th>\n",
       "      <td>36.70</td>\n",
       "    </tr>\n",
       "    <tr>\n",
       "      <th>F</th>\n",
       "      <td>48.55</td>\n",
       "    </tr>\n",
       "    <tr>\n",
       "      <th>G</th>\n",
       "      <td>51.01</td>\n",
       "    </tr>\n",
       "  </tbody>\n",
       "</table>\n",
       "</div>"
      ],
      "text/plain": [
       "loan_status  Ratio Percentage\n",
       "grade                        \n",
       "A                        6.38\n",
       "B                       13.90\n",
       "C                       20.76\n",
       "D                       28.18\n",
       "E                       36.70\n",
       "F                       48.55\n",
       "G                       51.01"
      ]
     },
     "execution_count": 23,
     "metadata": {},
     "output_type": "execute_result"
    }
   ],
   "source": [
    "# Find percetage of defaut for each Grade\n",
    "df_pivot_grade[\"Ratio Percentage\"] = ((df_pivot_grade[\"Charged Off\"] * 100) / df_pivot_grade[\"Fully Paid\"]).round(2)\n",
    "df_pivot_grade.drop(columns = [\"Charged Off\", \"Fully Paid\"], inplace=True)\n",
    "df_pivot_grade"
   ]
  },
  {
   "cell_type": "code",
   "execution_count": 24,
   "id": "7de5b1e6",
   "metadata": {},
   "outputs": [
    {
     "data": {
      "image/png": "[encoded data removed]",
      "text/plain": [
       "<Figure size 504x360 with 1 Axes>"
      ]
     },
     "metadata": {
      "needs_background": "light"
     },
     "output_type": "display_data"
    }
   ],
   "source": [
    "plot = df_pivot_grade.plot(kind='bar', title='Analysis with Grade', ylabel='Loan Status',\n",
    "         xlabel='Grade', figsize=(7, 5), fontsize=13, rot=0)\n",
    "plot = plot.legend(loc='center left', bbox_to_anchor=(0.4, 0.9))"
   ]
  },
  {
   "cell_type": "code",
   "execution_count": 25,
   "id": "9020f683",
   "metadata": {},
   "outputs": [
    {
     "data": {
      "image/png": "[encoded data removed]",
      "text/plain": [
       "<Figure size 576x432 with 1 Axes>"
      ]
     },
     "metadata": {},
     "output_type": "display_data"
    }
   ],
   "source": [
    "# Ploting Pie chart to analyse Ratio of default with respect to Grade\n",
    "plot = df_pivot_grade['Ratio Percentage'].plot(kind='pie', title='Ratio of Default on loan with respect to Grade', xlabel='Loan Status', \n",
    "        figsize=(8, 6), fontsize=12, rot=0, shadow=True, explode=(0.2, 0,0 ,0,0,0,0), autopct='%1.1f%%')"
   ]
  },
  {
   "cell_type": "code",
   "execution_count": null,
   "id": "c51b6986",
   "metadata": {},
   "outputs": [],
   "source": []
  },
  {
   "cell_type": "markdown",
   "id": "fc5e2d97",
   "metadata": {},
   "source": [
    "## Home Ownership VS Loan status\n",
    "\n",
    "This graph tell about home ownership VS Loan Status relationship\n",
    "\n",
    "**Analysis:**\n",
    "- Mortgage ownership have low default rate in percentage"
   ]
  },
  {
   "cell_type": "code",
   "execution_count": 26,
   "id": "743bf6a5",
   "metadata": {},
   "outputs": [],
   "source": [
    "pivot_home_owner_data = loan_data.loc[:, ['home_ownership', 'loan_status']]\n",
    "\n",
    "# Drop the index whose home_ownership is NONE as per record\n",
    "indexNone = pivot_home_owner_data[loan_data['home_ownership'] == 'NONE'].index\n",
    "pivot_home_owner_data = pivot_home_owner_data.drop(indexNone)\n",
    "df_pivot_home = pd.pivot_table(pivot_home_owner_data, index=['home_ownership'], columns= ['loan_status'], aggfunc= len)"
   ]
  },
  {
   "cell_type": "code",
   "execution_count": 27,
   "id": "2cbcda1c",
   "metadata": {},
   "outputs": [
    {
     "data": {
      "image/png": "[encoded data removed]",
      "text/plain": [
       "<Figure size 504x360 with 1 Axes>"
      ]
     },
     "metadata": {
      "needs_background": "light"
     },
     "output_type": "display_data"
    }
   ],
   "source": [
    "plot = df_pivot_home.plot(kind='bar', title='Analysis with Grade', ylabel='Loan Status',\n",
    "         xlabel='Home Ownership', figsize=(7, 5), fontsize=13, rot=0)\n",
    "plot = plot.legend(loc='center left', bbox_to_anchor=(0.4, 0.9))"
   ]
  },
  {
   "cell_type": "code",
   "execution_count": 28,
   "id": "5eb2b215",
   "metadata": {},
   "outputs": [
    {
     "data": {
      "text/html": [
       "<div>\n",
       "<style scoped>\n",
       "    .dataframe tbody tr th:only-of-type {\n",
       "        vertical-align: middle;\n",
       "    }\n",
       "\n",
       "    .dataframe tbody tr th {\n",
       "        vertical-align: top;\n",
       "    }\n",
       "\n",
       "    .dataframe thead th {\n",
       "        text-align: right;\n",
       "    }\n",
       "</style>\n",
       "<table border=\"1\" class=\"dataframe\">\n",
       "  <thead>\n",
       "    <tr style=\"text-align: right;\">\n",
       "      <th>loan_status</th>\n",
       "      <th>Ratio Percentage</th>\n",
       "    </tr>\n",
       "    <tr>\n",
       "      <th>home_ownership</th>\n",
       "      <th></th>\n",
       "    </tr>\n",
       "  </thead>\n",
       "  <tbody>\n",
       "    <tr>\n",
       "      <th>MORTGAGE</th>\n",
       "      <td>15.84</td>\n",
       "    </tr>\n",
       "    <tr>\n",
       "      <th>OTHER</th>\n",
       "      <td>22.50</td>\n",
       "    </tr>\n",
       "    <tr>\n",
       "      <th>OWN</th>\n",
       "      <td>17.50</td>\n",
       "    </tr>\n",
       "    <tr>\n",
       "      <th>RENT</th>\n",
       "      <td>18.15</td>\n",
       "    </tr>\n",
       "  </tbody>\n",
       "</table>\n",
       "</div>"
      ],
      "text/plain": [
       "loan_status     Ratio Percentage\n",
       "home_ownership                  \n",
       "MORTGAGE                   15.84\n",
       "OTHER                      22.50\n",
       "OWN                        17.50\n",
       "RENT                       18.15"
      ]
     },
     "execution_count": 28,
     "metadata": {},
     "output_type": "execute_result"
    }
   ],
   "source": [
    "# Find percetage of defaut for each Grade\n",
    "df_pivot_home[\"Ratio Percentage\"] = ((df_pivot_home[\"Charged Off\"] * 100 )/ df_pivot_home[\"Fully Paid\"]).round(2)\n",
    "df_pivot_home.drop(columns = [\"Charged Off\", \"Fully Paid\"], inplace=True)\n",
    "df_pivot_home"
   ]
  },
  {
   "cell_type": "code",
   "execution_count": 29,
   "id": "8d477d9b",
   "metadata": {},
   "outputs": [
    {
     "data": {
      "image/png": "[encoded data removed]",
      "text/plain": [
       "<Figure size 432x288 with 1 Axes>"
      ]
     },
     "metadata": {
      "needs_background": "light"
     },
     "output_type": "display_data"
    }
   ],
   "source": [
    "#plot = df_pivot_home['Ratio Percentage'].plot(kind='pie', title='Ratio of Default on loan with respect to Home Ownership', xlabel='Loan Status', \n",
    "#        figsize=(8, 6), fontsize=12, rot=0, shadow=True, explode=(0.2, 0,0 ,0), autopct='%1.1f%%')\n",
    "\n",
    "X = df_pivot_home['Ratio Percentage'].index\n",
    "Y = df_pivot_home['Ratio Percentage'].values\n",
    "draw_percentage_bar_chart(X, Y, 'Ratio of home ownership to loan Default', 'Home Ownership', 'Occurance')"
   ]
  },
  {
   "cell_type": "code",
   "execution_count": null,
   "id": "cd11882d",
   "metadata": {},
   "outputs": [],
   "source": []
  },
  {
   "cell_type": "code",
   "execution_count": null,
   "id": "005d1d31",
   "metadata": {},
   "outputs": [],
   "source": []
  },
  {
   "cell_type": "markdown",
   "id": "bfd595fa",
   "metadata": {},
   "source": [
    "## dti relation on loan status\n",
    "\n",
    "This graph tell about dti VS Loan Status relationship.\n",
    "\n",
    "dti is debt to income ratio which tells about the expenditure of borrower.\n",
    "\n",
    "**Analysis:**\n"
   ]
  },
  {
   "cell_type": "code",
   "execution_count": 30,
   "id": "12589251",
   "metadata": {},
   "outputs": [],
   "source": [
    "# Drop the index whose home_ownership is NONE as per record\n",
    "indexNone = loan_data[loan_data['home_ownership'] == 'NONE'].index\n",
    "df_dti_data = loan_data.drop(indexNone)"
   ]
  },
  {
   "cell_type": "code",
   "execution_count": 31,
   "id": "1c59543b",
   "metadata": {},
   "outputs": [
    {
     "data": {
      "image/png": "[encoded data removed]",
      "text/plain": [
       "<Figure size 432x288 with 1 Axes>"
      ]
     },
     "metadata": {
      "needs_background": "light"
     },
     "output_type": "display_data"
    }
   ],
   "source": [
    "plt.boxplot(df_dti_data['dti'])\n",
    "plt.show()"
   ]
  },
  {
   "cell_type": "code",
   "execution_count": 32,
   "id": "764548c2",
   "metadata": {},
   "outputs": [
    {
     "name": "stdout",
     "output_type": "stream",
     "text": [
      "18.56\n",
      "8.13\n"
     ]
    }
   ],
   "source": [
    "# Find IQR range to decide bins range\n",
    "Q3 = df_dti_data['dti'].quantile(0.75)\n",
    "Q1 = df_dti_data['dti'].quantile(0.25)\n",
    "print(Q3)\n",
    "print(Q1)"
   ]
  },
  {
   "cell_type": "markdown",
   "id": "f1a4605a",
   "metadata": {},
   "source": [
    "- Creating Bins for creating diagram\n",
    "- Taking > 18.56 = High dti\n",
    "- Taking < 8.13  = Low dti\n",
    "- Taking 8.13 <-> 18.56 = Medium dti"
   ]
  },
  {
   "cell_type": "code",
   "execution_count": 33,
   "id": "984dacfb",
   "metadata": {},
   "outputs": [
    {
     "data": {
      "text/html": [
       "<div>\n",
       "<style scoped>\n",
       "    .dataframe tbody tr th:only-of-type {\n",
       "        vertical-align: middle;\n",
       "    }\n",
       "\n",
       "    .dataframe tbody tr th {\n",
       "        vertical-align: top;\n",
       "    }\n",
       "\n",
       "    .dataframe thead th {\n",
       "        text-align: right;\n",
       "    }\n",
       "</style>\n",
       "<table border=\"1\" class=\"dataframe\">\n",
       "  <thead>\n",
       "    <tr style=\"text-align: right;\">\n",
       "      <th></th>\n",
       "      <th>id</th>\n",
       "      <th>loan_amnt</th>\n",
       "      <th>funded_amnt</th>\n",
       "      <th>funded_amnt_inv</th>\n",
       "      <th>annual_inc</th>\n",
       "      <th>int_rate</th>\n",
       "      <th>installment</th>\n",
       "      <th>loan_status</th>\n",
       "      <th>grade</th>\n",
       "      <th>sub_grade</th>\n",
       "      <th>dti</th>\n",
       "      <th>verification_status</th>\n",
       "      <th>term</th>\n",
       "      <th>home_ownership</th>\n",
       "      <th>purpose</th>\n",
       "      <th>addr_state</th>\n",
       "      <th>dti_bins</th>\n",
       "    </tr>\n",
       "  </thead>\n",
       "  <tbody>\n",
       "    <tr>\n",
       "      <th>0</th>\n",
       "      <td>1077501</td>\n",
       "      <td>5000</td>\n",
       "      <td>5000</td>\n",
       "      <td>4975.0</td>\n",
       "      <td>24000.0</td>\n",
       "      <td>10.65%</td>\n",
       "      <td>162.87</td>\n",
       "      <td>Fully Paid</td>\n",
       "      <td>B</td>\n",
       "      <td>B2</td>\n",
       "      <td>27.65</td>\n",
       "      <td>Verified</td>\n",
       "      <td>36 months</td>\n",
       "      <td>RENT</td>\n",
       "      <td>credit_card</td>\n",
       "      <td>AZ</td>\n",
       "      <td>high</td>\n",
       "    </tr>\n",
       "    <tr>\n",
       "      <th>1</th>\n",
       "      <td>1077430</td>\n",
       "      <td>2500</td>\n",
       "      <td>2500</td>\n",
       "      <td>2500.0</td>\n",
       "      <td>30000.0</td>\n",
       "      <td>15.27%</td>\n",
       "      <td>59.83</td>\n",
       "      <td>Charged Off</td>\n",
       "      <td>C</td>\n",
       "      <td>C4</td>\n",
       "      <td>1.00</td>\n",
       "      <td>Source Verified</td>\n",
       "      <td>60 months</td>\n",
       "      <td>RENT</td>\n",
       "      <td>car</td>\n",
       "      <td>GA</td>\n",
       "      <td>low</td>\n",
       "    </tr>\n",
       "    <tr>\n",
       "      <th>2</th>\n",
       "      <td>1077175</td>\n",
       "      <td>2400</td>\n",
       "      <td>2400</td>\n",
       "      <td>2400.0</td>\n",
       "      <td>12252.0</td>\n",
       "      <td>15.96%</td>\n",
       "      <td>84.33</td>\n",
       "      <td>Fully Paid</td>\n",
       "      <td>C</td>\n",
       "      <td>C5</td>\n",
       "      <td>8.72</td>\n",
       "      <td>Not Verified</td>\n",
       "      <td>36 months</td>\n",
       "      <td>RENT</td>\n",
       "      <td>small_business</td>\n",
       "      <td>IL</td>\n",
       "      <td>medium</td>\n",
       "    </tr>\n",
       "    <tr>\n",
       "      <th>3</th>\n",
       "      <td>1076863</td>\n",
       "      <td>10000</td>\n",
       "      <td>10000</td>\n",
       "      <td>10000.0</td>\n",
       "      <td>49200.0</td>\n",
       "      <td>13.49%</td>\n",
       "      <td>339.31</td>\n",
       "      <td>Fully Paid</td>\n",
       "      <td>C</td>\n",
       "      <td>C1</td>\n",
       "      <td>20.00</td>\n",
       "      <td>Source Verified</td>\n",
       "      <td>36 months</td>\n",
       "      <td>RENT</td>\n",
       "      <td>other</td>\n",
       "      <td>CA</td>\n",
       "      <td>high</td>\n",
       "    </tr>\n",
       "    <tr>\n",
       "      <th>5</th>\n",
       "      <td>1075269</td>\n",
       "      <td>5000</td>\n",
       "      <td>5000</td>\n",
       "      <td>5000.0</td>\n",
       "      <td>36000.0</td>\n",
       "      <td>7.90%</td>\n",
       "      <td>156.46</td>\n",
       "      <td>Fully Paid</td>\n",
       "      <td>A</td>\n",
       "      <td>A4</td>\n",
       "      <td>11.20</td>\n",
       "      <td>Source Verified</td>\n",
       "      <td>36 months</td>\n",
       "      <td>RENT</td>\n",
       "      <td>wedding</td>\n",
       "      <td>AZ</td>\n",
       "      <td>medium</td>\n",
       "    </tr>\n",
       "  </tbody>\n",
       "</table>\n",
       "</div>"
      ],
      "text/plain": [
       "        id  loan_amnt  funded_amnt  funded_amnt_inv  annual_inc int_rate  \\\n",
       "0  1077501       5000         5000           4975.0     24000.0   10.65%   \n",
       "1  1077430       2500         2500           2500.0     30000.0   15.27%   \n",
       "2  1077175       2400         2400           2400.0     12252.0   15.96%   \n",
       "3  1076863      10000        10000          10000.0     49200.0   13.49%   \n",
       "5  1075269       5000         5000           5000.0     36000.0    7.90%   \n",
       "\n",
       "   installment  loan_status grade sub_grade    dti verification_status  \\\n",
       "0       162.87   Fully Paid     B        B2  27.65            Verified   \n",
       "1        59.83  Charged Off     C        C4   1.00     Source Verified   \n",
       "2        84.33   Fully Paid     C        C5   8.72        Not Verified   \n",
       "3       339.31   Fully Paid     C        C1  20.00     Source Verified   \n",
       "5       156.46   Fully Paid     A        A4  11.20     Source Verified   \n",
       "\n",
       "         term home_ownership         purpose addr_state dti_bins  \n",
       "0   36 months           RENT     credit_card         AZ     high  \n",
       "1   60 months           RENT             car         GA      low  \n",
       "2   36 months           RENT  small_business         IL   medium  \n",
       "3   36 months           RENT           other         CA     high  \n",
       "5   36 months           RENT         wedding         AZ   medium  "
      ]
     },
     "execution_count": 33,
     "metadata": {},
     "output_type": "execute_result"
    }
   ],
   "source": [
    "df_dti_data.loc[df_dti_data['dti'] >= 18.56, 'dti_bins'] = 'high'\n",
    "df_dti_data.loc[df_dti_data['dti'] <= 8.13, 'dti_bins'] = 'low'\n",
    "df_dti_data.loc[(df_dti_data['dti'] > 8.13) & (df_dti_data['dti'] < 18.56), 'dti_bins'] = 'medium'\n",
    "df_dti_data.head()"
   ]
  },
  {
   "cell_type": "code",
   "execution_count": 34,
   "id": "89e68fdb",
   "metadata": {},
   "outputs": [
    {
     "data": {
      "text/html": [
       "<div>\n",
       "<style scoped>\n",
       "    .dataframe tbody tr th:only-of-type {\n",
       "        vertical-align: middle;\n",
       "    }\n",
       "\n",
       "    .dataframe tbody tr th {\n",
       "        vertical-align: top;\n",
       "    }\n",
       "\n",
       "    .dataframe thead th {\n",
       "        text-align: right;\n",
       "    }\n",
       "</style>\n",
       "<table border=\"1\" class=\"dataframe\">\n",
       "  <thead>\n",
       "    <tr style=\"text-align: right;\">\n",
       "      <th></th>\n",
       "      <th>dti_bins</th>\n",
       "      <th>loan_status</th>\n",
       "    </tr>\n",
       "  </thead>\n",
       "  <tbody>\n",
       "    <tr>\n",
       "      <th>0</th>\n",
       "      <td>high</td>\n",
       "      <td>Fully Paid</td>\n",
       "    </tr>\n",
       "    <tr>\n",
       "      <th>1</th>\n",
       "      <td>low</td>\n",
       "      <td>Charged Off</td>\n",
       "    </tr>\n",
       "    <tr>\n",
       "      <th>2</th>\n",
       "      <td>medium</td>\n",
       "      <td>Fully Paid</td>\n",
       "    </tr>\n",
       "    <tr>\n",
       "      <th>3</th>\n",
       "      <td>high</td>\n",
       "      <td>Fully Paid</td>\n",
       "    </tr>\n",
       "    <tr>\n",
       "      <th>5</th>\n",
       "      <td>medium</td>\n",
       "      <td>Fully Paid</td>\n",
       "    </tr>\n",
       "  </tbody>\n",
       "</table>\n",
       "</div>"
      ],
      "text/plain": [
       "  dti_bins  loan_status\n",
       "0     high   Fully Paid\n",
       "1      low  Charged Off\n",
       "2   medium   Fully Paid\n",
       "3     high   Fully Paid\n",
       "5   medium   Fully Paid"
      ]
     },
     "execution_count": 34,
     "metadata": {},
     "output_type": "execute_result"
    }
   ],
   "source": [
    "df_dti_data = df_dti_data.loc[:, ['dti_bins',  'loan_status']]\n",
    "df_dti_data.head()"
   ]
  },
  {
   "cell_type": "code",
   "execution_count": 35,
   "id": "35e50a8f",
   "metadata": {},
   "outputs": [
    {
     "data": {
      "text/html": [
       "<div>\n",
       "<style scoped>\n",
       "    .dataframe tbody tr th:only-of-type {\n",
       "        vertical-align: middle;\n",
       "    }\n",
       "\n",
       "    .dataframe tbody tr th {\n",
       "        vertical-align: top;\n",
       "    }\n",
       "\n",
       "    .dataframe thead th {\n",
       "        text-align: right;\n",
       "    }\n",
       "</style>\n",
       "<table border=\"1\" class=\"dataframe\">\n",
       "  <thead>\n",
       "    <tr style=\"text-align: right;\">\n",
       "      <th>loan_status</th>\n",
       "      <th>Charged Off</th>\n",
       "      <th>Fully Paid</th>\n",
       "    </tr>\n",
       "    <tr>\n",
       "      <th>dti_bins</th>\n",
       "      <th></th>\n",
       "      <th></th>\n",
       "    </tr>\n",
       "  </thead>\n",
       "  <tbody>\n",
       "    <tr>\n",
       "      <th>high</th>\n",
       "      <td>1617</td>\n",
       "      <td>8029</td>\n",
       "    </tr>\n",
       "    <tr>\n",
       "      <th>low</th>\n",
       "      <td>1192</td>\n",
       "      <td>8458</td>\n",
       "    </tr>\n",
       "    <tr>\n",
       "      <th>medium</th>\n",
       "      <td>2818</td>\n",
       "      <td>16460</td>\n",
       "    </tr>\n",
       "  </tbody>\n",
       "</table>\n",
       "</div>"
      ],
      "text/plain": [
       "loan_status  Charged Off  Fully Paid\n",
       "dti_bins                            \n",
       "high                1617        8029\n",
       "low                 1192        8458\n",
       "medium              2818       16460"
      ]
     },
     "execution_count": 35,
     "metadata": {},
     "output_type": "execute_result"
    }
   ],
   "source": [
    "pivot_dti_data = pd.pivot_table(df_dti_data, index=['dti_bins'], columns= ['loan_status'], aggfunc= len)\n",
    "pivot_dti_data"
   ]
  },
  {
   "cell_type": "markdown",
   "id": "bce2e1e0",
   "metadata": {},
   "source": [
    "**Analysis:**\n",
    "- As per below diagram "
   ]
  },
  {
   "cell_type": "code",
   "execution_count": 36,
   "id": "cb9ab4bd",
   "metadata": {
    "scrolled": true
   },
   "outputs": [
    {
     "data": {
      "image/png": "[encoded data removed]",
      "text/plain": [
       "<Figure size 504x360 with 1 Axes>"
      ]
     },
     "metadata": {
      "needs_background": "light"
     },
     "output_type": "display_data"
    }
   ],
   "source": [
    "plot = pivot_dti_data.plot(kind='bar', title='Analysis on Grade of borrower', ylabel='Loan Status',\n",
    "         xlabel='DTI Catogory', figsize=(7, 5), fontsize=12, rot=0)"
   ]
  },
  {
   "cell_type": "code",
   "execution_count": 37,
   "id": "742d06ab",
   "metadata": {},
   "outputs": [
    {
     "data": {
      "text/plain": [
       "dti_bins\n",
       "high      20.14\n",
       "low       14.09\n",
       "medium    17.12\n",
       "Name: Ratio Percentage, dtype: float64"
      ]
     },
     "execution_count": 37,
     "metadata": {},
     "output_type": "execute_result"
    }
   ],
   "source": [
    "# Find percetage of defaut for each Grade\n",
    "pivot_dti_data[\"Ratio Percentage\"] = ((pivot_dti_data[\"Charged Off\"] * 100) / pivot_dti_data[\"Fully Paid\"]).round(2)\n",
    "pivot_dti_data.drop(columns = [\"Charged Off\", \"Fully Paid\"], inplace=True)\n",
    "pivot_dti_data['Ratio Percentage']"
   ]
  },
  {
   "cell_type": "code",
   "execution_count": 38,
   "id": "2b624f54",
   "metadata": {},
   "outputs": [
    {
     "data": {
      "image/png": "[encoded data removed]",
      "text/plain": [
       "<Figure size 432x288 with 1 Axes>"
      ]
     },
     "metadata": {
      "needs_background": "light"
     },
     "output_type": "display_data"
    }
   ],
   "source": [
    "# Draw graph to find out percentage\n",
    "X = pivot_dti_data['Ratio Percentage'].index\n",
    "Y = pivot_dti_data['Ratio Percentage'].values\n",
    "draw_percentage_bar_chart(X, Y, 'debt to income ratio relation with loan default', 'dti burden', 'Default loan in [%]')\n"
   ]
  },
  {
   "cell_type": "code",
   "execution_count": null,
   "id": "5b266af0",
   "metadata": {},
   "outputs": [],
   "source": []
  },
  {
   "cell_type": "markdown",
   "id": "86a96341",
   "metadata": {},
   "source": [
    "## Relation of loan on Tenure of loan (term)\n",
    "\n",
    "\n",
    "This graph tell about dti VS Loan Status relationship.\n",
    "\n",
    "dti is debt to income ratio which tells about the expenditure of borrower.\n",
    "\n",
    "**Analysis:**\n",
    "- It is observed that, borrower who have \"36 month\" tenure are more in count and complete the loan successfully."
   ]
  },
  {
   "cell_type": "code",
   "execution_count": 39,
   "id": "ad78cef8",
   "metadata": {},
   "outputs": [
    {
     "data": {
      "text/html": [
       "<div>\n",
       "<style scoped>\n",
       "    .dataframe tbody tr th:only-of-type {\n",
       "        vertical-align: middle;\n",
       "    }\n",
       "\n",
       "    .dataframe tbody tr th {\n",
       "        vertical-align: top;\n",
       "    }\n",
       "\n",
       "    .dataframe thead th {\n",
       "        text-align: right;\n",
       "    }\n",
       "</style>\n",
       "<table border=\"1\" class=\"dataframe\">\n",
       "  <thead>\n",
       "    <tr style=\"text-align: right;\">\n",
       "      <th></th>\n",
       "      <th>term</th>\n",
       "      <th>loan_status</th>\n",
       "      <th>dti_bins</th>\n",
       "    </tr>\n",
       "  </thead>\n",
       "  <tbody>\n",
       "    <tr>\n",
       "      <th>0</th>\n",
       "      <td>36 months</td>\n",
       "      <td>Fully Paid</td>\n",
       "      <td>high</td>\n",
       "    </tr>\n",
       "    <tr>\n",
       "      <th>1</th>\n",
       "      <td>60 months</td>\n",
       "      <td>Charged Off</td>\n",
       "      <td>low</td>\n",
       "    </tr>\n",
       "    <tr>\n",
       "      <th>2</th>\n",
       "      <td>36 months</td>\n",
       "      <td>Fully Paid</td>\n",
       "      <td>medium</td>\n",
       "    </tr>\n",
       "    <tr>\n",
       "      <th>3</th>\n",
       "      <td>36 months</td>\n",
       "      <td>Fully Paid</td>\n",
       "      <td>high</td>\n",
       "    </tr>\n",
       "    <tr>\n",
       "      <th>5</th>\n",
       "      <td>36 months</td>\n",
       "      <td>Fully Paid</td>\n",
       "      <td>medium</td>\n",
       "    </tr>\n",
       "  </tbody>\n",
       "</table>\n",
       "</div>"
      ],
      "text/plain": [
       "         term  loan_status dti_bins\n",
       "0   36 months   Fully Paid     high\n",
       "1   60 months  Charged Off      low\n",
       "2   36 months   Fully Paid   medium\n",
       "3   36 months   Fully Paid     high\n",
       "5   36 months   Fully Paid   medium"
      ]
     },
     "execution_count": 39,
     "metadata": {},
     "output_type": "execute_result"
    }
   ],
   "source": [
    "df_term_data = loan_data.loc[:, ['dti', 'term', 'loan_status']]\n",
    "df_term_data.loc[df_term_data['dti'] >= 18.56, 'dti_bins'] = 'high'\n",
    "df_term_data.loc[df_term_data['dti'] <= 8.13, 'dti_bins'] = 'low'\n",
    "df_term_data.loc[(df_term_data['dti'] > 8.13) & (df_term_data['dti'] < 18.56), 'dti_bins'] = 'medium'\n",
    "df_term_data.drop(columns=['dti'], inplace=True)\n",
    "df_term_data.head()"
   ]
  },
  {
   "cell_type": "code",
   "execution_count": 40,
   "id": "0e2f8a5b",
   "metadata": {},
   "outputs": [
    {
     "data": {
      "text/html": [
       "<div>\n",
       "<style scoped>\n",
       "    .dataframe tbody tr th:only-of-type {\n",
       "        vertical-align: middle;\n",
       "    }\n",
       "\n",
       "    .dataframe tbody tr th {\n",
       "        vertical-align: top;\n",
       "    }\n",
       "\n",
       "    .dataframe thead tr th {\n",
       "        text-align: left;\n",
       "    }\n",
       "\n",
       "    .dataframe thead tr:last-of-type th {\n",
       "        text-align: right;\n",
       "    }\n",
       "</style>\n",
       "<table border=\"1\" class=\"dataframe\">\n",
       "  <thead>\n",
       "    <tr>\n",
       "      <th></th>\n",
       "      <th colspan=\"2\" halign=\"left\">dti_bins</th>\n",
       "    </tr>\n",
       "    <tr>\n",
       "      <th>loan_status</th>\n",
       "      <th>Charged Off</th>\n",
       "      <th>Fully Paid</th>\n",
       "    </tr>\n",
       "    <tr>\n",
       "      <th>term</th>\n",
       "      <th></th>\n",
       "      <th></th>\n",
       "    </tr>\n",
       "  </thead>\n",
       "  <tbody>\n",
       "    <tr>\n",
       "      <th>36 months</th>\n",
       "      <td>3227</td>\n",
       "      <td>25869</td>\n",
       "    </tr>\n",
       "    <tr>\n",
       "      <th>60 months</th>\n",
       "      <td>2400</td>\n",
       "      <td>7081</td>\n",
       "    </tr>\n",
       "  </tbody>\n",
       "</table>\n",
       "</div>"
      ],
      "text/plain": [
       "               dti_bins           \n",
       "loan_status Charged Off Fully Paid\n",
       "term                              \n",
       " 36 months         3227      25869\n",
       " 60 months         2400       7081"
      ]
     },
     "execution_count": 40,
     "metadata": {},
     "output_type": "execute_result"
    }
   ],
   "source": [
    "df_term_data = pd.pivot_table(df_term_data, index=['term'], columns= ['loan_status'], aggfunc= len)\n",
    "df_term_data"
   ]
  },
  {
   "cell_type": "code",
   "execution_count": 41,
   "id": "e2d5a0e4",
   "metadata": {},
   "outputs": [
    {
     "data": {
      "image/png": "[encoded data removed]",
      "text/plain": [
       "<Figure size 504x360 with 1 Axes>"
      ]
     },
     "metadata": {
      "needs_background": "light"
     },
     "output_type": "display_data"
    }
   ],
   "source": [
    "plot = df_term_data.plot(kind='bar', title='Analysis on Tenure for loan on loan status', ylabel='Loan Status',\n",
    "         xlabel='Term', figsize=(7, 5), fontsize=12, rot=0)"
   ]
  },
  {
   "cell_type": "code",
   "execution_count": null,
   "id": "bac76a97",
   "metadata": {},
   "outputs": [],
   "source": []
  },
  {
   "cell_type": "code",
   "execution_count": null,
   "id": "6686fa87",
   "metadata": {},
   "outputs": [],
   "source": []
  }
 ],
 "metadata": {
  "kernelspec": {
   "display_name": "Python 3 (ipykernel)",
   "language": "python",
   "name": "python3"
  },
  "language_info": {
   "codemirror_mode": {
    "name": "ipython",
    "version": 3
   },
   "file_extension": ".py",
   "mimetype": "text/x-python",
   "name": "python",
   "nbconvert_exporter": "python",
   "pygments_lexer": "ipython3",
   "version": "3.9.12"
  },
  "vscode": {
   "interpreter": {
    "hash": "31f2aee4e71d21fbe5cf8b01ff0e069b9275f58929596ceb00d14d90e3e16cd6"
   }
  }
 },
 "nbformat": 4,
 "nbformat_minor": 5
}
