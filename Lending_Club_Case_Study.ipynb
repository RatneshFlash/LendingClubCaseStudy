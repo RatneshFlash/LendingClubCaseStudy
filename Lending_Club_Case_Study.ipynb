{
 "cells": [
  {
   "cell_type": "markdown",
   "id": "8df321b2",
   "metadata": {},
   "source": [
    "# Lending Club Case Study"
   ]
  },
  {
   "cell_type": "markdown",
   "id": "93a8d30d",
   "metadata": {},
   "source": [
    "# Initial Steps"
   ]
  },
  {
   "cell_type": "code",
   "execution_count": 205,
   "id": "dd145498",
   "metadata": {},
   "outputs": [],
   "source": [
    "# Initialize library which to be used for analysis\n",
    "import pandas as pd\n",
    "import numpy as np"
   ]
  },
  {
   "cell_type": "code",
   "execution_count": 206,
   "id": "971bcc6d",
   "metadata": {},
   "outputs": [
    {
     "name": "stderr",
     "output_type": "stream",
     "text": [
      "C:\\Users\\priya\\AppData\\Local\\Temp\\ipykernel_13204\\3640188012.py:2: DtypeWarning: Columns (47) have mixed types. Specify dtype option on import or set low_memory=False.\n",
      "  raw_loan_data = pd.read_csv(\"loan.csv\")\n"
     ]
    },
    {
     "data": {
      "text/plain": [
       "(39717, 111)"
      ]
     },
     "execution_count": 206,
     "metadata": {},
     "output_type": "execute_result"
    }
   ],
   "source": [
    "# Reading coma separted file usingn pandas library\n",
    "raw_loan_data = pd.read_csv(\"loan.csv\")\n",
    "raw_loan_data.shape"
   ]
  },
  {
   "cell_type": "code",
   "execution_count": null,
   "id": "fa52046a",
   "metadata": {},
   "outputs": [],
   "source": []
  },
  {
   "cell_type": "markdown",
   "id": "c926fdcc",
   "metadata": {},
   "source": [
    "# Data Cleaning"
   ]
  },
  {
   "cell_type": "markdown",
   "id": "746ef1f2",
   "metadata": {},
   "source": [
    "## Check if any duplicate 'id' is present\n",
    "\n",
    "Ideally 'id' should be unique number for each row entry, hence below step is performed to check if we any duplicate 'id' is available"
   ]
  },
  {
   "cell_type": "code",
   "execution_count": 207,
   "id": "f148248b",
   "metadata": {},
   "outputs": [
    {
     "data": {
      "text/html": [
       "<div>\n",
       "<style scoped>\n",
       "    .dataframe tbody tr th:only-of-type {\n",
       "        vertical-align: middle;\n",
       "    }\n",
       "\n",
       "    .dataframe tbody tr th {\n",
       "        vertical-align: top;\n",
       "    }\n",
       "\n",
       "    .dataframe thead th {\n",
       "        text-align: right;\n",
       "    }\n",
       "</style>\n",
       "<table border=\"1\" class=\"dataframe\">\n",
       "  <thead>\n",
       "    <tr style=\"text-align: right;\">\n",
       "      <th></th>\n",
       "      <th>id</th>\n",
       "      <th>member_id</th>\n",
       "      <th>loan_amnt</th>\n",
       "      <th>funded_amnt</th>\n",
       "      <th>funded_amnt_inv</th>\n",
       "      <th>term</th>\n",
       "      <th>int_rate</th>\n",
       "      <th>installment</th>\n",
       "      <th>grade</th>\n",
       "      <th>sub_grade</th>\n",
       "      <th>...</th>\n",
       "      <th>num_tl_90g_dpd_24m</th>\n",
       "      <th>num_tl_op_past_12m</th>\n",
       "      <th>pct_tl_nvr_dlq</th>\n",
       "      <th>percent_bc_gt_75</th>\n",
       "      <th>pub_rec_bankruptcies</th>\n",
       "      <th>tax_liens</th>\n",
       "      <th>tot_hi_cred_lim</th>\n",
       "      <th>total_bal_ex_mort</th>\n",
       "      <th>total_bc_limit</th>\n",
       "      <th>total_il_high_credit_limit</th>\n",
       "    </tr>\n",
       "  </thead>\n",
       "  <tbody>\n",
       "  </tbody>\n",
       "</table>\n",
       "<p>0 rows × 111 columns</p>\n",
       "</div>"
      ],
      "text/plain": [
       "Empty DataFrame\n",
       "Columns: [id, member_id, loan_amnt, funded_amnt, funded_amnt_inv, term, int_rate, installment, grade, sub_grade, emp_title, emp_length, home_ownership, annual_inc, verification_status, issue_d, loan_status, pymnt_plan, url, desc, purpose, title, zip_code, addr_state, dti, delinq_2yrs, earliest_cr_line, inq_last_6mths, mths_since_last_delinq, mths_since_last_record, open_acc, pub_rec, revol_bal, revol_util, total_acc, initial_list_status, out_prncp, out_prncp_inv, total_pymnt, total_pymnt_inv, total_rec_prncp, total_rec_int, total_rec_late_fee, recoveries, collection_recovery_fee, last_pymnt_d, last_pymnt_amnt, next_pymnt_d, last_credit_pull_d, collections_12_mths_ex_med, mths_since_last_major_derog, policy_code, application_type, annual_inc_joint, dti_joint, verification_status_joint, acc_now_delinq, tot_coll_amt, tot_cur_bal, open_acc_6m, open_il_6m, open_il_12m, open_il_24m, mths_since_rcnt_il, total_bal_il, il_util, open_rv_12m, open_rv_24m, max_bal_bc, all_util, total_rev_hi_lim, inq_fi, total_cu_tl, inq_last_12m, acc_open_past_24mths, avg_cur_bal, bc_open_to_buy, bc_util, chargeoff_within_12_mths, delinq_amnt, mo_sin_old_il_acct, mo_sin_old_rev_tl_op, mo_sin_rcnt_rev_tl_op, mo_sin_rcnt_tl, mort_acc, mths_since_recent_bc, mths_since_recent_bc_dlq, mths_since_recent_inq, mths_since_recent_revol_delinq, num_accts_ever_120_pd, num_actv_bc_tl, num_actv_rev_tl, num_bc_sats, num_bc_tl, num_il_tl, num_op_rev_tl, num_rev_accts, num_rev_tl_bal_gt_0, num_sats, num_tl_120dpd_2m, ...]\n",
       "Index: []\n",
       "\n",
       "[0 rows x 111 columns]"
      ]
     },
     "execution_count": 207,
     "metadata": {},
     "output_type": "execute_result"
    }
   ],
   "source": [
    "raw_loan_data[raw_loan_data['id'].duplicated(keep='first')]"
   ]
  },
  {
   "cell_type": "markdown",
   "id": "df9e9091",
   "metadata": {},
   "source": [
    "As per above step, we do not found any 'id' is duplicate in record"
   ]
  },
  {
   "cell_type": "markdown",
   "id": "a28b3afc",
   "metadata": {},
   "source": [
    "## Select neccessory columns for analysis"
   ]
  },
  {
   "cell_type": "code",
   "execution_count": 208,
   "id": "189fd1ed",
   "metadata": {},
   "outputs": [
    {
     "data": {
      "text/plain": [
       "(39717, 16)"
      ]
     },
     "execution_count": 208,
     "metadata": {},
     "output_type": "execute_result"
    }
   ],
   "source": [
    "loan_data = raw_loan_data.loc[:, ['id', 'loan_amnt', 'funded_amnt', 'funded_amnt_inv', 'annual_inc', 'int_rate', 'installment', 'loan_status', 'grade', 'sub_grade', 'dti', 'verification_status', 'term', 'home_ownership', 'purpose', 'addr_state']]\n",
    "loan_data.shape"
   ]
  },
  {
   "cell_type": "code",
   "execution_count": 209,
   "id": "f10404b8",
   "metadata": {},
   "outputs": [
    {
     "data": {
      "text/html": [
       "<div>\n",
       "<style scoped>\n",
       "    .dataframe tbody tr th:only-of-type {\n",
       "        vertical-align: middle;\n",
       "    }\n",
       "\n",
       "    .dataframe tbody tr th {\n",
       "        vertical-align: top;\n",
       "    }\n",
       "\n",
       "    .dataframe thead th {\n",
       "        text-align: right;\n",
       "    }\n",
       "</style>\n",
       "<table border=\"1\" class=\"dataframe\">\n",
       "  <thead>\n",
       "    <tr style=\"text-align: right;\">\n",
       "      <th></th>\n",
       "      <th>id</th>\n",
       "      <th>loan_amnt</th>\n",
       "      <th>funded_amnt</th>\n",
       "      <th>funded_amnt_inv</th>\n",
       "      <th>annual_inc</th>\n",
       "      <th>int_rate</th>\n",
       "      <th>installment</th>\n",
       "      <th>loan_status</th>\n",
       "      <th>grade</th>\n",
       "      <th>sub_grade</th>\n",
       "      <th>dti</th>\n",
       "      <th>verification_status</th>\n",
       "      <th>term</th>\n",
       "      <th>home_ownership</th>\n",
       "      <th>purpose</th>\n",
       "      <th>addr_state</th>\n",
       "    </tr>\n",
       "  </thead>\n",
       "  <tbody>\n",
       "    <tr>\n",
       "      <th>0</th>\n",
       "      <td>1077501</td>\n",
       "      <td>5000</td>\n",
       "      <td>5000</td>\n",
       "      <td>4975.0</td>\n",
       "      <td>24000.0</td>\n",
       "      <td>10.65%</td>\n",
       "      <td>162.87</td>\n",
       "      <td>Fully Paid</td>\n",
       "      <td>B</td>\n",
       "      <td>B2</td>\n",
       "      <td>27.65</td>\n",
       "      <td>Verified</td>\n",
       "      <td>36 months</td>\n",
       "      <td>RENT</td>\n",
       "      <td>credit_card</td>\n",
       "      <td>AZ</td>\n",
       "    </tr>\n",
       "    <tr>\n",
       "      <th>1</th>\n",
       "      <td>1077430</td>\n",
       "      <td>2500</td>\n",
       "      <td>2500</td>\n",
       "      <td>2500.0</td>\n",
       "      <td>30000.0</td>\n",
       "      <td>15.27%</td>\n",
       "      <td>59.83</td>\n",
       "      <td>Charged Off</td>\n",
       "      <td>C</td>\n",
       "      <td>C4</td>\n",
       "      <td>1.00</td>\n",
       "      <td>Source Verified</td>\n",
       "      <td>60 months</td>\n",
       "      <td>RENT</td>\n",
       "      <td>car</td>\n",
       "      <td>GA</td>\n",
       "    </tr>\n",
       "    <tr>\n",
       "      <th>2</th>\n",
       "      <td>1077175</td>\n",
       "      <td>2400</td>\n",
       "      <td>2400</td>\n",
       "      <td>2400.0</td>\n",
       "      <td>12252.0</td>\n",
       "      <td>15.96%</td>\n",
       "      <td>84.33</td>\n",
       "      <td>Fully Paid</td>\n",
       "      <td>C</td>\n",
       "      <td>C5</td>\n",
       "      <td>8.72</td>\n",
       "      <td>Not Verified</td>\n",
       "      <td>36 months</td>\n",
       "      <td>RENT</td>\n",
       "      <td>small_business</td>\n",
       "      <td>IL</td>\n",
       "    </tr>\n",
       "    <tr>\n",
       "      <th>3</th>\n",
       "      <td>1076863</td>\n",
       "      <td>10000</td>\n",
       "      <td>10000</td>\n",
       "      <td>10000.0</td>\n",
       "      <td>49200.0</td>\n",
       "      <td>13.49%</td>\n",
       "      <td>339.31</td>\n",
       "      <td>Fully Paid</td>\n",
       "      <td>C</td>\n",
       "      <td>C1</td>\n",
       "      <td>20.00</td>\n",
       "      <td>Source Verified</td>\n",
       "      <td>36 months</td>\n",
       "      <td>RENT</td>\n",
       "      <td>other</td>\n",
       "      <td>CA</td>\n",
       "    </tr>\n",
       "    <tr>\n",
       "      <th>4</th>\n",
       "      <td>1075358</td>\n",
       "      <td>3000</td>\n",
       "      <td>3000</td>\n",
       "      <td>3000.0</td>\n",
       "      <td>80000.0</td>\n",
       "      <td>12.69%</td>\n",
       "      <td>67.79</td>\n",
       "      <td>Current</td>\n",
       "      <td>B</td>\n",
       "      <td>B5</td>\n",
       "      <td>17.94</td>\n",
       "      <td>Source Verified</td>\n",
       "      <td>60 months</td>\n",
       "      <td>RENT</td>\n",
       "      <td>other</td>\n",
       "      <td>OR</td>\n",
       "    </tr>\n",
       "  </tbody>\n",
       "</table>\n",
       "</div>"
      ],
      "text/plain": [
       "        id  loan_amnt  funded_amnt  funded_amnt_inv  annual_inc int_rate  \\\n",
       "0  1077501       5000         5000           4975.0     24000.0   10.65%   \n",
       "1  1077430       2500         2500           2500.0     30000.0   15.27%   \n",
       "2  1077175       2400         2400           2400.0     12252.0   15.96%   \n",
       "3  1076863      10000        10000          10000.0     49200.0   13.49%   \n",
       "4  1075358       3000         3000           3000.0     80000.0   12.69%   \n",
       "\n",
       "   installment  loan_status grade sub_grade    dti verification_status  \\\n",
       "0       162.87   Fully Paid     B        B2  27.65            Verified   \n",
       "1        59.83  Charged Off     C        C4   1.00     Source Verified   \n",
       "2        84.33   Fully Paid     C        C5   8.72        Not Verified   \n",
       "3       339.31   Fully Paid     C        C1  20.00     Source Verified   \n",
       "4        67.79      Current     B        B5  17.94     Source Verified   \n",
       "\n",
       "         term home_ownership         purpose addr_state  \n",
       "0   36 months           RENT     credit_card         AZ  \n",
       "1   60 months           RENT             car         GA  \n",
       "2   36 months           RENT  small_business         IL  \n",
       "3   36 months           RENT           other         CA  \n",
       "4   60 months           RENT           other         OR  "
      ]
     },
     "execution_count": 209,
     "metadata": {},
     "output_type": "execute_result"
    }
   ],
   "source": [
    "loan_data.head()"
   ]
  },
  {
   "cell_type": "markdown",
   "id": "8a1e696e",
   "metadata": {},
   "source": [
    "## Filter Data\n",
    "- Check if any column have null value\n",
    "- Correct Datatype / Units\n",
    "\n",
    "**Analysis:**\n",
    "\n",
    "Data type is coming as expected for each column"
   ]
  },
  {
   "cell_type": "markdown",
   "id": "d8f88080",
   "metadata": {},
   "source": [
    "## No multi datatype column detected\n",
    "## No Unit conversion required for selected columns"
   ]
  },
  {
   "cell_type": "code",
   "execution_count": 210,
   "id": "29fa3015",
   "metadata": {},
   "outputs": [
    {
     "name": "stdout",
     "output_type": "stream",
     "text": [
      "<class 'pandas.core.frame.DataFrame'>\n",
      "RangeIndex: 39717 entries, 0 to 39716\n",
      "Data columns (total 16 columns):\n",
      " #   Column               Non-Null Count  Dtype  \n",
      "---  ------               --------------  -----  \n",
      " 0   id                   39717 non-null  int64  \n",
      " 1   loan_amnt            39717 non-null  int64  \n",
      " 2   funded_amnt          39717 non-null  int64  \n",
      " 3   funded_amnt_inv      39717 non-null  float64\n",
      " 4   annual_inc           39717 non-null  float64\n",
      " 5   int_rate             39717 non-null  object \n",
      " 6   installment          39717 non-null  float64\n",
      " 7   loan_status          39717 non-null  object \n",
      " 8   grade                39717 non-null  object \n",
      " 9   sub_grade            39717 non-null  object \n",
      " 10  dti                  39717 non-null  float64\n",
      " 11  verification_status  39717 non-null  object \n",
      " 12  term                 39717 non-null  object \n",
      " 13  home_ownership       39717 non-null  object \n",
      " 14  purpose              39717 non-null  object \n",
      " 15  addr_state           39717 non-null  object \n",
      "dtypes: float64(4), int64(3), object(9)\n",
      "memory usage: 4.8+ MB\n"
     ]
    }
   ],
   "source": [
    "loan_data.iloc[:, 0:100].info()"
   ]
  },
  {
   "cell_type": "code",
   "execution_count": 211,
   "id": "2c687e6c",
   "metadata": {},
   "outputs": [
    {
     "data": {
      "text/html": [
       "<div>\n",
       "<style scoped>\n",
       "    .dataframe tbody tr th:only-of-type {\n",
       "        vertical-align: middle;\n",
       "    }\n",
       "\n",
       "    .dataframe tbody tr th {\n",
       "        vertical-align: top;\n",
       "    }\n",
       "\n",
       "    .dataframe thead th {\n",
       "        text-align: right;\n",
       "    }\n",
       "</style>\n",
       "<table border=\"1\" class=\"dataframe\">\n",
       "  <thead>\n",
       "    <tr style=\"text-align: right;\">\n",
       "      <th></th>\n",
       "      <th>id</th>\n",
       "      <th>loan_amnt</th>\n",
       "      <th>funded_amnt</th>\n",
       "      <th>funded_amnt_inv</th>\n",
       "      <th>annual_inc</th>\n",
       "      <th>installment</th>\n",
       "      <th>dti</th>\n",
       "    </tr>\n",
       "  </thead>\n",
       "  <tbody>\n",
       "    <tr>\n",
       "      <th>count</th>\n",
       "      <td>3.971700e+04</td>\n",
       "      <td>39717.000000</td>\n",
       "      <td>39717.000000</td>\n",
       "      <td>39717.000000</td>\n",
       "      <td>3.971700e+04</td>\n",
       "      <td>39717.000000</td>\n",
       "      <td>39717.000000</td>\n",
       "    </tr>\n",
       "    <tr>\n",
       "      <th>mean</th>\n",
       "      <td>6.831319e+05</td>\n",
       "      <td>11219.443815</td>\n",
       "      <td>10947.713196</td>\n",
       "      <td>10397.448868</td>\n",
       "      <td>6.896893e+04</td>\n",
       "      <td>324.561922</td>\n",
       "      <td>13.315130</td>\n",
       "    </tr>\n",
       "    <tr>\n",
       "      <th>std</th>\n",
       "      <td>2.106941e+05</td>\n",
       "      <td>7456.670694</td>\n",
       "      <td>7187.238670</td>\n",
       "      <td>7128.450439</td>\n",
       "      <td>6.379377e+04</td>\n",
       "      <td>208.874874</td>\n",
       "      <td>6.678594</td>\n",
       "    </tr>\n",
       "    <tr>\n",
       "      <th>min</th>\n",
       "      <td>5.473400e+04</td>\n",
       "      <td>500.000000</td>\n",
       "      <td>500.000000</td>\n",
       "      <td>0.000000</td>\n",
       "      <td>4.000000e+03</td>\n",
       "      <td>15.690000</td>\n",
       "      <td>0.000000</td>\n",
       "    </tr>\n",
       "    <tr>\n",
       "      <th>25%</th>\n",
       "      <td>5.162210e+05</td>\n",
       "      <td>5500.000000</td>\n",
       "      <td>5400.000000</td>\n",
       "      <td>5000.000000</td>\n",
       "      <td>4.040400e+04</td>\n",
       "      <td>167.020000</td>\n",
       "      <td>8.170000</td>\n",
       "    </tr>\n",
       "    <tr>\n",
       "      <th>50%</th>\n",
       "      <td>6.656650e+05</td>\n",
       "      <td>10000.000000</td>\n",
       "      <td>9600.000000</td>\n",
       "      <td>8975.000000</td>\n",
       "      <td>5.900000e+04</td>\n",
       "      <td>280.220000</td>\n",
       "      <td>13.400000</td>\n",
       "    </tr>\n",
       "    <tr>\n",
       "      <th>75%</th>\n",
       "      <td>8.377550e+05</td>\n",
       "      <td>15000.000000</td>\n",
       "      <td>15000.000000</td>\n",
       "      <td>14400.000000</td>\n",
       "      <td>8.230000e+04</td>\n",
       "      <td>430.780000</td>\n",
       "      <td>18.600000</td>\n",
       "    </tr>\n",
       "    <tr>\n",
       "      <th>max</th>\n",
       "      <td>1.077501e+06</td>\n",
       "      <td>35000.000000</td>\n",
       "      <td>35000.000000</td>\n",
       "      <td>35000.000000</td>\n",
       "      <td>6.000000e+06</td>\n",
       "      <td>1305.190000</td>\n",
       "      <td>29.990000</td>\n",
       "    </tr>\n",
       "  </tbody>\n",
       "</table>\n",
       "</div>"
      ],
      "text/plain": [
       "                 id     loan_amnt   funded_amnt  funded_amnt_inv  \\\n",
       "count  3.971700e+04  39717.000000  39717.000000     39717.000000   \n",
       "mean   6.831319e+05  11219.443815  10947.713196     10397.448868   \n",
       "std    2.106941e+05   7456.670694   7187.238670      7128.450439   \n",
       "min    5.473400e+04    500.000000    500.000000         0.000000   \n",
       "25%    5.162210e+05   5500.000000   5400.000000      5000.000000   \n",
       "50%    6.656650e+05  10000.000000   9600.000000      8975.000000   \n",
       "75%    8.377550e+05  15000.000000  15000.000000     14400.000000   \n",
       "max    1.077501e+06  35000.000000  35000.000000     35000.000000   \n",
       "\n",
       "         annual_inc   installment           dti  \n",
       "count  3.971700e+04  39717.000000  39717.000000  \n",
       "mean   6.896893e+04    324.561922     13.315130  \n",
       "std    6.379377e+04    208.874874      6.678594  \n",
       "min    4.000000e+03     15.690000      0.000000  \n",
       "25%    4.040400e+04    167.020000      8.170000  \n",
       "50%    5.900000e+04    280.220000     13.400000  \n",
       "75%    8.230000e+04    430.780000     18.600000  \n",
       "max    6.000000e+06   1305.190000     29.990000  "
      ]
     },
     "execution_count": 211,
     "metadata": {},
     "output_type": "execute_result"
    }
   ],
   "source": [
    "loan_data.describe()"
   ]
  },
  {
   "cell_type": "code",
   "execution_count": 212,
   "id": "d9b14019",
   "metadata": {},
   "outputs": [],
   "source": [
    "#loan_data.corr()"
   ]
  },
  {
   "cell_type": "code",
   "execution_count": null,
   "id": "004dfd99",
   "metadata": {},
   "outputs": [],
   "source": []
  },
  {
   "cell_type": "markdown",
   "id": "7e11af01",
   "metadata": {},
   "source": [
    "# Univariate Analysis:"
   ]
  },
  {
   "cell_type": "code",
   "execution_count": 213,
   "id": "8462dc14",
   "metadata": {},
   "outputs": [],
   "source": [
    "import matplotlib.pyplot as plt\n",
    "import seaborn as sns"
   ]
  },
  {
   "cell_type": "markdown",
   "id": "b974ca9a",
   "metadata": {},
   "source": [
    "## Customer count for each loan status"
   ]
  },
  {
   "cell_type": "code",
   "execution_count": 214,
   "id": "4ee43a82",
   "metadata": {},
   "outputs": [
    {
     "data": {
      "image/png": "[encoded data removed]",
      "text/plain": [
       "<Figure size 432x288 with 1 Axes>"
      ]
     },
     "metadata": {
      "needs_background": "light"
     },
     "output_type": "display_data"
    }
   ],
   "source": [
    "# take loan status variable vs occurance of the value\n",
    "X = loan_data['loan_status'].value_counts().index.values\n",
    "Y = loan_data['loan_status'].value_counts().values\n",
    "chart1 = plt.bar(X, Y, label='Count', width=0.2)\n",
    "\n",
    "# Adding and formatting title\n",
    "plt.title(\"Loan Status Chart\\n\", fontdict={'fontsize': 20, 'fontweight' : 5, 'color' : 'Green'})\n",
    "\n",
    "# Labeling Axes\n",
    "plt.xlabel(\"Number of customer\", fontdict={'fontsize': 12, 'fontweight' : 5, 'color' : 'Brown'})\n",
    "plt.ylabel(\"Loan Status\", fontdict={'fontsize': 12, 'fontweight' : 5, 'color' : 'Brown'})\n",
    "\n",
    "# Add count number for each bar candle\n",
    "plt.bar_label(chart1, fmt='%d')\n",
    "\n",
    "plt.legend()\n",
    "plt.show()"
   ]
  },
  {
   "cell_type": "markdown",
   "id": "a3c7cc89",
   "metadata": {},
   "source": [
    "## Purpose of loan bar graph"
   ]
  },
  {
   "cell_type": "code",
   "execution_count": 215,
   "id": "21ffbd2f",
   "metadata": {},
   "outputs": [
    {
     "data": {
      "image/png": "[encoded data removed]",
      "text/plain": [
       "<Figure size 864x576 with 1 Axes>"
      ]
     },
     "metadata": {
      "needs_background": "light"
     },
     "output_type": "display_data"
    }
   ],
   "source": [
    "plt.figure(figsize=[12, 8])\n",
    "\n",
    "# take purpose variable vs occurance of the value\n",
    "X = loan_data['purpose'].value_counts().index.values\n",
    "Y = loan_data['purpose'].value_counts().values\n",
    "chart1 = plt.bar(X, Y, label='Count', width=0.4, color='Green')\n",
    "\n",
    "# Adding and formatting title\n",
    "plt.title(\"Purpose for loan\\n\", fontdict={'fontsize': 20, 'fontweight' : 5, 'color' : 'Black'})\n",
    "\n",
    "# Labeling Axes\n",
    "plt.xlabel(\"Purpose\", fontdict={'fontsize': 15, 'fontweight' : 5, 'color' : 'Brown'})\n",
    "plt.ylabel(\"Occurance\", fontdict={'fontsize': 15, 'fontweight' : 5, 'color' : 'Brown'})\n",
    "\n",
    "plt.xticks(rotation=60)\n",
    "\n",
    "# Add count number for each bar candle\n",
    "plt.bar_label(chart1, fmt='%d')\n",
    "\n",
    "plt.legend(prop={\"size\":16})\n",
    "plt.show()"
   ]
  },
  {
   "cell_type": "markdown",
   "id": "4d0fbffd",
   "metadata": {},
   "source": [
    "## State wise Loan applications"
   ]
  },
  {
   "cell_type": "code",
   "execution_count": 216,
   "id": "5d8b1316",
   "metadata": {},
   "outputs": [
    {
     "data": {
      "image/png": "[encoded data removed]",
      "text/plain": [
       "<Figure size 1080x720 with 1 Axes>"
      ]
     },
     "metadata": {
      "needs_background": "light"
     },
     "output_type": "display_data"
    }
   ],
   "source": [
    "plt.figure(figsize=[15, 10])\n",
    "\n",
    "# take state code variable vs occurance of the value\n",
    "X = loan_data['addr_state'].value_counts().index.values\n",
    "Y = loan_data['addr_state'].value_counts().values\n",
    "chart1 = plt.bar(X, Y, label='Count', width=0.6, color='Green')\n",
    "\n",
    "# Adding and formatting title\n",
    "plt.title(\"State-wise Loan Applications\\n\", fontdict={'fontsize': 20, 'fontweight' : 5, 'color' : 'Black'})\n",
    "\n",
    "# Labeling Axes\n",
    "plt.xlabel(\"Occurance\", fontdict={'fontsize': 15, 'fontweight' : 5, 'color' : 'Brown'})\n",
    "plt.ylabel(\"State\", fontdict={'fontsize': 15, 'fontweight' : 5, 'color' : 'Brown'})\n",
    "\n",
    "plt.xticks(rotation=45)\n",
    "\n",
    "# Add count number for each bar candle\n",
    "plt.bar_label(chart1, fmt='%d', rotation=45)\n",
    "\n",
    "plt.legend(prop={\"size\":16})\n",
    "plt.show()"
   ]
  },
  {
   "cell_type": "markdown",
   "id": "919b984f",
   "metadata": {},
   "source": [
    "## Customer Count for both Tenure of loan"
   ]
  },
  {
   "cell_type": "code",
   "execution_count": 217,
   "id": "fee0436a",
   "metadata": {},
   "outputs": [
    {
     "data": {
      "image/png": "[encoded data removed]",
      "text/plain": [
       "<Figure size 432x288 with 1 Axes>"
      ]
     },
     "metadata": {
      "needs_background": "light"
     },
     "output_type": "display_data"
    }
   ],
   "source": [
    "# take ter variable vs occurance of the value\n",
    "X = loan_data['term'].value_counts().index.values\n",
    "Y = loan_data['term'].value_counts().values\n",
    "chart1 = plt.bar(X, Y, label='Count', width=0.3, color='Orange')\n",
    "\n",
    "# Adding and formatting title\n",
    "plt.title(\"Tenure of Loan\\n\", fontdict={'fontsize': 20, 'fontweight' : 5, 'color' : 'Black'})\n",
    "\n",
    "# Labeling Axes\n",
    "plt.xlabel(\"Occurance\", fontdict={'fontsize': 15, 'fontweight' : 5, 'color' : 'Brown'})\n",
    "plt.ylabel(\"term\", fontdict={'fontsize': 15, 'fontweight' : 5, 'color' : 'Brown'})\n",
    "\n",
    "plt.xticks(rotation=45)\n",
    "\n",
    "# Add count number for each bar candle\n",
    "plt.bar_label(chart1, fmt='%d')\n",
    "\n",
    "plt.legend(prop={\"size\":16})\n",
    "plt.show()"
   ]
  },
  {
   "cell_type": "markdown",
   "id": "ce97c622",
   "metadata": {},
   "source": [
    "## Borrower's Distribution with different dti"
   ]
  },
  {
   "cell_type": "code",
   "execution_count": 218,
   "id": "f974c112",
   "metadata": {},
   "outputs": [
    {
     "data": {
      "image/png": "[encoded data removed]",
      "text/plain": [
       "<Figure size 432x288 with 1 Axes>"
      ]
     },
     "metadata": {
      "needs_background": "light"
     },
     "output_type": "display_data"
    }
   ],
   "source": [
    "plt.hist(loan_data['dti'], bins=10)\n",
    "plt.xticks(np.arange(0,31,3))\n",
    "\n",
    "# Adding and formatting title\n",
    "plt.title(\"Borrower's distribution with different dti\\n\", fontdict={'fontsize': 20, 'fontweight' : 5, 'color' : 'Black'})\n",
    "\n",
    "# Labeling Axes\n",
    "plt.xlabel(\"Range\", fontdict={'fontsize': 15, 'fontweight' : 5, 'color' : 'Brown'})\n",
    "plt.ylabel(\"Occurance\", fontdict={'fontsize': 15, 'fontweight' : 5, 'color' : 'Brown'})\n",
    "\n",
    "plt.show()"
   ]
  },
  {
   "cell_type": "code",
   "execution_count": null,
   "id": "52290d15",
   "metadata": {},
   "outputs": [],
   "source": []
  },
  {
   "cell_type": "code",
   "execution_count": null,
   "id": "d671a722",
   "metadata": {},
   "outputs": [],
   "source": []
  },
  {
   "cell_type": "code",
   "execution_count": null,
   "id": "0d2aeb48",
   "metadata": {},
   "outputs": [],
   "source": []
  },
  {
   "cell_type": "markdown",
   "id": "869e9e1e",
   "metadata": {},
   "source": [
    "# Bivariate Analysis:"
   ]
  },
  {
   "cell_type": "markdown",
   "id": "3f9f751e",
   "metadata": {},
   "source": [
    "##### The member whose loan is \"Current\" should be not analysed for this study,\n",
    "\n",
    "##### Hence we should remove them as a \"not required rows\""
   ]
  },
  {
   "cell_type": "code",
   "execution_count": 219,
   "id": "bf2dfac2",
   "metadata": {},
   "outputs": [],
   "source": [
    "# Currently running loan status member removed from analysis data\n",
    "loan_data = loan_data[loan_data[\"loan_status\"] != 'Current']"
   ]
  },
  {
   "cell_type": "code",
   "execution_count": 220,
   "id": "15d7612b",
   "metadata": {},
   "outputs": [
    {
     "data": {
      "text/html": [
       "<div>\n",
       "<style scoped>\n",
       "    .dataframe tbody tr th:only-of-type {\n",
       "        vertical-align: middle;\n",
       "    }\n",
       "\n",
       "    .dataframe tbody tr th {\n",
       "        vertical-align: top;\n",
       "    }\n",
       "\n",
       "    .dataframe thead th {\n",
       "        text-align: right;\n",
       "    }\n",
       "</style>\n",
       "<table border=\"1\" class=\"dataframe\">\n",
       "  <thead>\n",
       "    <tr style=\"text-align: right;\">\n",
       "      <th></th>\n",
       "      <th>id</th>\n",
       "      <th>loan_amnt</th>\n",
       "      <th>funded_amnt</th>\n",
       "      <th>funded_amnt_inv</th>\n",
       "      <th>annual_inc</th>\n",
       "      <th>int_rate</th>\n",
       "      <th>installment</th>\n",
       "      <th>loan_status</th>\n",
       "      <th>grade</th>\n",
       "      <th>sub_grade</th>\n",
       "      <th>dti</th>\n",
       "      <th>verification_status</th>\n",
       "      <th>term</th>\n",
       "      <th>home_ownership</th>\n",
       "      <th>purpose</th>\n",
       "      <th>addr_state</th>\n",
       "    </tr>\n",
       "  </thead>\n",
       "  <tbody>\n",
       "    <tr>\n",
       "      <th>0</th>\n",
       "      <td>1077501</td>\n",
       "      <td>5000</td>\n",
       "      <td>5000</td>\n",
       "      <td>4975.0</td>\n",
       "      <td>24000.0</td>\n",
       "      <td>10.65%</td>\n",
       "      <td>162.87</td>\n",
       "      <td>Fully Paid</td>\n",
       "      <td>B</td>\n",
       "      <td>B2</td>\n",
       "      <td>27.65</td>\n",
       "      <td>Verified</td>\n",
       "      <td>36 months</td>\n",
       "      <td>RENT</td>\n",
       "      <td>credit_card</td>\n",
       "      <td>AZ</td>\n",
       "    </tr>\n",
       "    <tr>\n",
       "      <th>1</th>\n",
       "      <td>1077430</td>\n",
       "      <td>2500</td>\n",
       "      <td>2500</td>\n",
       "      <td>2500.0</td>\n",
       "      <td>30000.0</td>\n",
       "      <td>15.27%</td>\n",
       "      <td>59.83</td>\n",
       "      <td>Charged Off</td>\n",
       "      <td>C</td>\n",
       "      <td>C4</td>\n",
       "      <td>1.00</td>\n",
       "      <td>Source Verified</td>\n",
       "      <td>60 months</td>\n",
       "      <td>RENT</td>\n",
       "      <td>car</td>\n",
       "      <td>GA</td>\n",
       "    </tr>\n",
       "    <tr>\n",
       "      <th>2</th>\n",
       "      <td>1077175</td>\n",
       "      <td>2400</td>\n",
       "      <td>2400</td>\n",
       "      <td>2400.0</td>\n",
       "      <td>12252.0</td>\n",
       "      <td>15.96%</td>\n",
       "      <td>84.33</td>\n",
       "      <td>Fully Paid</td>\n",
       "      <td>C</td>\n",
       "      <td>C5</td>\n",
       "      <td>8.72</td>\n",
       "      <td>Not Verified</td>\n",
       "      <td>36 months</td>\n",
       "      <td>RENT</td>\n",
       "      <td>small_business</td>\n",
       "      <td>IL</td>\n",
       "    </tr>\n",
       "    <tr>\n",
       "      <th>3</th>\n",
       "      <td>1076863</td>\n",
       "      <td>10000</td>\n",
       "      <td>10000</td>\n",
       "      <td>10000.0</td>\n",
       "      <td>49200.0</td>\n",
       "      <td>13.49%</td>\n",
       "      <td>339.31</td>\n",
       "      <td>Fully Paid</td>\n",
       "      <td>C</td>\n",
       "      <td>C1</td>\n",
       "      <td>20.00</td>\n",
       "      <td>Source Verified</td>\n",
       "      <td>36 months</td>\n",
       "      <td>RENT</td>\n",
       "      <td>other</td>\n",
       "      <td>CA</td>\n",
       "    </tr>\n",
       "    <tr>\n",
       "      <th>5</th>\n",
       "      <td>1075269</td>\n",
       "      <td>5000</td>\n",
       "      <td>5000</td>\n",
       "      <td>5000.0</td>\n",
       "      <td>36000.0</td>\n",
       "      <td>7.90%</td>\n",
       "      <td>156.46</td>\n",
       "      <td>Fully Paid</td>\n",
       "      <td>A</td>\n",
       "      <td>A4</td>\n",
       "      <td>11.20</td>\n",
       "      <td>Source Verified</td>\n",
       "      <td>36 months</td>\n",
       "      <td>RENT</td>\n",
       "      <td>wedding</td>\n",
       "      <td>AZ</td>\n",
       "    </tr>\n",
       "  </tbody>\n",
       "</table>\n",
       "</div>"
      ],
      "text/plain": [
       "        id  loan_amnt  funded_amnt  funded_amnt_inv  annual_inc int_rate  \\\n",
       "0  1077501       5000         5000           4975.0     24000.0   10.65%   \n",
       "1  1077430       2500         2500           2500.0     30000.0   15.27%   \n",
       "2  1077175       2400         2400           2400.0     12252.0   15.96%   \n",
       "3  1076863      10000        10000          10000.0     49200.0   13.49%   \n",
       "5  1075269       5000         5000           5000.0     36000.0    7.90%   \n",
       "\n",
       "   installment  loan_status grade sub_grade    dti verification_status  \\\n",
       "0       162.87   Fully Paid     B        B2  27.65            Verified   \n",
       "1        59.83  Charged Off     C        C4   1.00     Source Verified   \n",
       "2        84.33   Fully Paid     C        C5   8.72        Not Verified   \n",
       "3       339.31   Fully Paid     C        C1  20.00     Source Verified   \n",
       "5       156.46   Fully Paid     A        A4  11.20     Source Verified   \n",
       "\n",
       "         term home_ownership         purpose addr_state  \n",
       "0   36 months           RENT     credit_card         AZ  \n",
       "1   60 months           RENT             car         GA  \n",
       "2   36 months           RENT  small_business         IL  \n",
       "3   36 months           RENT           other         CA  \n",
       "5   36 months           RENT         wedding         AZ  "
      ]
     },
     "execution_count": 220,
     "metadata": {},
     "output_type": "execute_result"
    }
   ],
   "source": [
    "loan_data.head()"
   ]
  },
  {
   "cell_type": "code",
   "execution_count": null,
   "id": "0e2e68b9",
   "metadata": {},
   "outputs": [],
   "source": []
  },
  {
   "cell_type": "markdown",
   "id": "867b49e2",
   "metadata": {},
   "source": [
    "## Annual Income for each Grade borrows"
   ]
  },
  {
   "cell_type": "code",
   "execution_count": 221,
   "id": "0ce96063",
   "metadata": {},
   "outputs": [
    {
     "data": {
      "image/png": "[encoded data removed]",
      "text/plain": [
       "<Figure size 576x432 with 1 Axes>"
      ]
     },
     "metadata": {
      "needs_background": "light"
     },
     "output_type": "display_data"
    }
   ],
   "source": [
    "plt.figure(figsize=[8, 6])\n",
    "\n",
    "# showfliers=False will remove outliers from graph\n",
    "plt.boxplot([loan_data.loc[loan_data['grade'] == 'A', 'annual_inc'], \n",
    "             loan_data.loc[loan_data['grade'] == 'B', 'annual_inc'],\n",
    "             loan_data.loc[loan_data['grade'] == 'C', 'annual_inc'],\n",
    "             loan_data.loc[loan_data['grade'] == 'D', 'annual_inc'],\n",
    "             loan_data.loc[loan_data['grade'] == 'E', 'annual_inc'],\n",
    "             loan_data.loc[loan_data['grade'] == 'F', 'annual_inc'],\n",
    "             loan_data.loc[loan_data['grade'] == 'G', 'annual_inc']], \n",
    "            showfliers=False, widths=(0.6))\n",
    "\n",
    "# Adding and formatting title\n",
    "plt.title(\"Sales across Countries and Product Categories\\n\", fontdict={'fontsize': 20, 'fontweight' : 5, 'color' : 'Green'})\n",
    "\n",
    "# Labeling Axes\n",
    "plt.xlabel(\"Income Distribution\", fontdict={'fontsize': 15, 'fontweight' : 10, 'color' : 'Brown'})\n",
    "plt.ylabel(\"Annual Income\", fontdict={'fontsize': 15, 'fontweight' : 10, 'color' : 'Brown'})\n",
    "\n",
    "plt.xticks((1,2,3,4,5,6,7),[\"Grade A\", \"Grade B\", \"Grade C\", \"Grade D\", \"Grade E\", \"Grade F\", \"Grade G\"])\n",
    "\n",
    "plt.show()"
   ]
  },
  {
   "cell_type": "code",
   "execution_count": 222,
   "id": "ec5adc0a",
   "metadata": {},
   "outputs": [],
   "source": [
    "# df_good = loan_data[loan_data['loan_status'] == 'Fully Paid']\n",
    "# df_bad = loan_data[loan_data['loan_status'] == 'Charged Off']\n",
    "\n",
    "# grade = loan_data['grade']\n",
    "# sub_grade = loan_data['sub_grade']\n",
    "# loan_status = loan_data['loan_status']\n",
    "# income = loan_data['annual_inc']\n",
    "# funded_amnt_inv = loan_data['funded_amnt_inv']"
   ]
  },
  {
   "cell_type": "markdown",
   "id": "4ece44e5",
   "metadata": {},
   "source": [
    "## Bar Graph for Grade Relation with loan default\n",
    "\n",
    "This graph tell about Grade/Annual Income relation with Loan Status\n",
    "\n",
    "**Analysis:**\n",
    "\n",
    "**High Annual income individual not neccessorily successfully able to fully pay the loan.**\n",
    "\n",
    "In below graph we can observe,\n",
    "- Lower income then **Grade G** borrowers successfully able to fully pay the loan as per **Grade A**\n",
    "\n",
    "Further analysis require to find exact relation of Grade on Loan default"
   ]
  },
  {
   "cell_type": "code",
   "execution_count": 223,
   "id": "4bab0cd6",
   "metadata": {},
   "outputs": [],
   "source": [
    "dfg = loan_data.groupby(by=['grade', 'loan_status']).mean()\n",
    "dfg = dfg.drop(columns=['id', 'dti', 'installment', 'loan_amnt', 'funded_amnt', 'funded_amnt_inv'])\n",
    "#dfg\n"
   ]
  },
  {
   "cell_type": "code",
   "execution_count": 224,
   "id": "cb35efca",
   "metadata": {},
   "outputs": [
    {
     "data": {
      "image/png": "[encoded data removed]",
      "text/plain": [
       "<Figure size 720x576 with 1 Axes>"
      ]
     },
     "metadata": {
      "needs_background": "light"
     },
     "output_type": "display_data"
    }
   ],
   "source": [
    "plot = dfg.plot(kind='bar', title='Analysis with Grade', ylabel='Annual Income',\n",
    "         xlabel='Loan Status', figsize=(10, 8), subplots=True)\n"
   ]
  },
  {
   "cell_type": "code",
   "execution_count": null,
   "id": "bc07395f",
   "metadata": {},
   "outputs": [],
   "source": []
  },
  {
   "cell_type": "code",
   "execution_count": null,
   "id": "5ace8ba6",
   "metadata": {},
   "outputs": [],
   "source": []
  },
  {
   "cell_type": "code",
   "execution_count": 225,
   "id": "088a6f41",
   "metadata": {},
   "outputs": [],
   "source": [
    "# Defining fuction for percentage bar graph drawing\n",
    "def draw_percentage_bar_chart(X, Y, title_str, xlabel, ylabel):\n",
    "    chart1 = plt.bar(X, Y, label='Count', width=0.2, color='Red')\n",
    "\n",
    "    # Adding and formatting title\n",
    "    plt.title(title_str, fontdict={'fontsize': 20, 'fontweight' : 5, 'color' : 'Black'})\n",
    "\n",
    "    # Labeling Axes\n",
    "    plt.xlabel(xlabel, fontdict={'fontsize': 15, 'fontweight' : 5, 'color' : 'Brown'})\n",
    "    plt.ylabel(ylabel, fontdict={'fontsize': 15, 'fontweight' : 5, 'color' : 'Brown'})\n",
    "\n",
    "    plt.xticks(rotation=45)\n",
    "\n",
    "    # Add count number for each bar candle\n",
    "    plt.bar_label(chart1, fmt='%d %%')\n",
    "\n",
    "    plt.legend(prop={\"size\":16})\n",
    "    plt.show()"
   ]
  },
  {
   "cell_type": "markdown",
   "id": "d1ad9990",
   "metadata": {},
   "source": [
    "## Grade VS Loan status\n",
    "\n",
    "This graph tell about Grade VS Loan Status relationship\n",
    "\n",
    "**Analysis:**\n",
    "- For loan status catogory, grade is showing relation. The higher the grade higher the chances of fully paying the loan amount."
   ]
  },
  {
   "cell_type": "code",
   "execution_count": 226,
   "id": "e9a3f65e",
   "metadata": {},
   "outputs": [],
   "source": [
    "pivot_grade_data = loan_data.loc[:, ['grade', 'loan_status']]\n",
    "df_pivot_grade = pd.pivot_table(pivot_grade_data, index=['grade'], columns= ['loan_status'], aggfunc= len)\n",
    "\n",
    "#pivot_data"
   ]
  },
  {
   "cell_type": "code",
   "execution_count": 227,
   "id": "797fefc5",
   "metadata": {},
   "outputs": [
    {
     "data": {
      "image/png": "[encoded data removed]",
      "text/plain": [
       "<Figure size 504x360 with 1 Axes>"
      ]
     },
     "metadata": {
      "needs_background": "light"
     },
     "output_type": "display_data"
    }
   ],
   "source": [
    "plot = df_pivot_grade.plot(kind='bar', title='Analysis on Grade of borrower', ylabel='Loan Status',\n",
    "         xlabel='Grade', figsize=(7, 5), fontsize=12, rot=0)"
   ]
  },
  {
   "cell_type": "code",
   "execution_count": 228,
   "id": "9f66862e",
   "metadata": {},
   "outputs": [
    {
     "data": {
      "text/html": [
       "<div>\n",
       "<style scoped>\n",
       "    .dataframe tbody tr th:only-of-type {\n",
       "        vertical-align: middle;\n",
       "    }\n",
       "\n",
       "    .dataframe tbody tr th {\n",
       "        vertical-align: top;\n",
       "    }\n",
       "\n",
       "    .dataframe thead th {\n",
       "        text-align: right;\n",
       "    }\n",
       "</style>\n",
       "<table border=\"1\" class=\"dataframe\">\n",
       "  <thead>\n",
       "    <tr style=\"text-align: right;\">\n",
       "      <th>loan_status</th>\n",
       "      <th>Ratio Percentage</th>\n",
       "    </tr>\n",
       "    <tr>\n",
       "      <th>grade</th>\n",
       "      <th></th>\n",
       "    </tr>\n",
       "  </thead>\n",
       "  <tbody>\n",
       "    <tr>\n",
       "      <th>A</th>\n",
       "      <td>6.38</td>\n",
       "    </tr>\n",
       "    <tr>\n",
       "      <th>B</th>\n",
       "      <td>13.90</td>\n",
       "    </tr>\n",
       "    <tr>\n",
       "      <th>C</th>\n",
       "      <td>20.76</td>\n",
       "    </tr>\n",
       "    <tr>\n",
       "      <th>D</th>\n",
       "      <td>28.18</td>\n",
       "    </tr>\n",
       "    <tr>\n",
       "      <th>E</th>\n",
       "      <td>36.70</td>\n",
       "    </tr>\n",
       "    <tr>\n",
       "      <th>F</th>\n",
       "      <td>48.55</td>\n",
       "    </tr>\n",
       "    <tr>\n",
       "      <th>G</th>\n",
       "      <td>51.01</td>\n",
       "    </tr>\n",
       "  </tbody>\n",
       "</table>\n",
       "</div>"
      ],
      "text/plain": [
       "loan_status  Ratio Percentage\n",
       "grade                        \n",
       "A                        6.38\n",
       "B                       13.90\n",
       "C                       20.76\n",
       "D                       28.18\n",
       "E                       36.70\n",
       "F                       48.55\n",
       "G                       51.01"
      ]
     },
     "execution_count": 228,
     "metadata": {},
     "output_type": "execute_result"
    }
   ],
   "source": [
    "# Find percetage of defaut for each Grade\n",
    "df_pivot_grade[\"Ratio Percentage\"] = ((df_pivot_grade[\"Charged Off\"] * 100) / df_pivot_grade[\"Fully Paid\"]).round(2)\n",
    "df_pivot_grade.drop(columns = [\"Charged Off\", \"Fully Paid\"], inplace=True)\n",
    "df_pivot_grade"
   ]
  },
  {
   "cell_type": "code",
   "execution_count": 229,
   "id": "7de5b1e6",
   "metadata": {},
   "outputs": [
    {
     "data": {
      "image/png": "[encoded data removed]",
      "text/plain": [
       "<Figure size 504x360 with 1 Axes>"
      ]
     },
     "metadata": {
      "needs_background": "light"
     },
     "output_type": "display_data"
    }
   ],
   "source": [
    "plot = df_pivot_grade.plot(kind='bar', title='Analysis with Grade', ylabel='Loan Status',\n",
    "         xlabel='Grade', figsize=(7, 5), fontsize=13, rot=0)\n",
    "plot = plot.legend(loc='center left', bbox_to_anchor=(0.4, 0.9))"
   ]
  },
  {
   "cell_type": "code",
   "execution_count": 230,
   "id": "9020f683",
   "metadata": {},
   "outputs": [
    {
     "data": {
      "image/png": "[encoded data removed]",
      "text/plain": [
       "<Figure size 576x432 with 1 Axes>"
      ]
     },
     "metadata": {},
     "output_type": "display_data"
    }
   ],
   "source": [
    "# Ploting Pie chart to analyse Ratio of default with respect to Grade\n",
    "plot = df_pivot_grade['Ratio Percentage'].plot(kind='pie', title='Ratio of Default on loan with respect to Grade', xlabel='Loan Status', \n",
    "        figsize=(8, 6), fontsize=12, rot=0, shadow=True, explode=(0.2, 0,0 ,0,0,0,0), autopct='%1.1f%%')"
   ]
  },
  {
   "cell_type": "code",
   "execution_count": null,
   "id": "c51b6986",
   "metadata": {},
   "outputs": [],
   "source": []
  },
  {
   "cell_type": "markdown",
   "id": "fc5e2d97",
   "metadata": {},
   "source": [
    "## Home Ownership VS Loan status\n",
    "\n",
    "This graph tell about home ownership VS Loan Status relationship\n",
    "\n",
    "**Analysis:**\n",
    "- Mortgage ownership have low default in percentage"
   ]
  },
  {
   "cell_type": "code",
   "execution_count": 231,
   "id": "743bf6a5",
   "metadata": {},
   "outputs": [],
   "source": [
    "pivot_home_owner_data = loan_data.loc[:, ['home_ownership', 'loan_status']]\n",
    "\n",
    "# Drop the index whose home_ownership is NONE as per record\n",
    "indexNone = pivot_home_owner_data[loan_data['home_ownership'] == 'NONE'].index\n",
    "pivot_home_owner_data = pivot_home_owner_data.drop(indexNone)\n",
    "df_pivot_home = pd.pivot_table(pivot_home_owner_data, index=['home_ownership'], columns= ['loan_status'], aggfunc= len)"
   ]
  },
  {
   "cell_type": "code",
   "execution_count": 232,
   "id": "2cbcda1c",
   "metadata": {},
   "outputs": [
    {
     "data": {
      "image/png": "[encoded data removed]",
      "text/plain": [
       "<Figure size 504x360 with 1 Axes>"
      ]
     },
     "metadata": {
      "needs_background": "light"
     },
     "output_type": "display_data"
    }
   ],
   "source": [
    "plot = df_pivot_home.plot(kind='bar', title='Analysis with Grade', ylabel='Loan Status',\n",
    "         xlabel='Grade', figsize=(7, 5), fontsize=13, rot=0)\n",
    "plot = plot.legend(loc='center left', bbox_to_anchor=(0.4, 0.9))"
   ]
  },
  {
   "cell_type": "code",
   "execution_count": 233,
   "id": "5eb2b215",
   "metadata": {},
   "outputs": [
    {
     "data": {
      "text/html": [
       "<div>\n",
       "<style scoped>\n",
       "    .dataframe tbody tr th:only-of-type {\n",
       "        vertical-align: middle;\n",
       "    }\n",
       "\n",
       "    .dataframe tbody tr th {\n",
       "        vertical-align: top;\n",
       "    }\n",
       "\n",
       "    .dataframe thead th {\n",
       "        text-align: right;\n",
       "    }\n",
       "</style>\n",
       "<table border=\"1\" class=\"dataframe\">\n",
       "  <thead>\n",
       "    <tr style=\"text-align: right;\">\n",
       "      <th>loan_status</th>\n",
       "      <th>Ratio Percentage</th>\n",
       "    </tr>\n",
       "    <tr>\n",
       "      <th>home_ownership</th>\n",
       "      <th></th>\n",
       "    </tr>\n",
       "  </thead>\n",
       "  <tbody>\n",
       "    <tr>\n",
       "      <th>MORTGAGE</th>\n",
       "      <td>15.84</td>\n",
       "    </tr>\n",
       "    <tr>\n",
       "      <th>OTHER</th>\n",
       "      <td>22.50</td>\n",
       "    </tr>\n",
       "    <tr>\n",
       "      <th>OWN</th>\n",
       "      <td>17.50</td>\n",
       "    </tr>\n",
       "    <tr>\n",
       "      <th>RENT</th>\n",
       "      <td>18.15</td>\n",
       "    </tr>\n",
       "  </tbody>\n",
       "</table>\n",
       "</div>"
      ],
      "text/plain": [
       "loan_status     Ratio Percentage\n",
       "home_ownership                  \n",
       "MORTGAGE                   15.84\n",
       "OTHER                      22.50\n",
       "OWN                        17.50\n",
       "RENT                       18.15"
      ]
     },
     "execution_count": 233,
     "metadata": {},
     "output_type": "execute_result"
    }
   ],
   "source": [
    "# Find percetage of defaut for each Grade\n",
    "df_pivot_home[\"Ratio Percentage\"] = ((df_pivot_home[\"Charged Off\"] * 100 )/ df_pivot_home[\"Fully Paid\"]).round(2)\n",
    "df_pivot_home.drop(columns = [\"Charged Off\", \"Fully Paid\"], inplace=True)\n",
    "df_pivot_home"
   ]
  },
  {
   "cell_type": "code",
   "execution_count": 234,
   "id": "8d477d9b",
   "metadata": {},
   "outputs": [
    {
     "data": {
      "image/png": "[encoded data removed]",
      "text/plain": [
       "<Figure size 432x288 with 1 Axes>"
      ]
     },
     "metadata": {
      "needs_background": "light"
     },
     "output_type": "display_data"
    }
   ],
   "source": [
    "#plot = df_pivot_home['Ratio Percentage'].plot(kind='pie', title='Ratio of Default on loan with respect to Home Ownership', xlabel='Loan Status', \n",
    "#        figsize=(8, 6), fontsize=12, rot=0, shadow=True, explode=(0.2, 0,0 ,0), autopct='%1.1f%%')\n",
    "\n",
    "X = df_pivot_home['Ratio Percentage'].index\n",
    "Y = df_pivot_home['Ratio Percentage'].values\n",
    "draw_percentage_bar_chart(X, Y, 'Ratio of home ownership to loan Default', 'Home Ownership', 'Occurance')"
   ]
  },
  {
   "cell_type": "code",
   "execution_count": null,
   "id": "cd11882d",
   "metadata": {},
   "outputs": [],
   "source": []
  },
  {
   "cell_type": "code",
   "execution_count": null,
   "id": "005d1d31",
   "metadata": {},
   "outputs": [],
   "source": []
  },
  {
   "cell_type": "markdown",
   "id": "bfd595fa",
   "metadata": {},
   "source": [
    "## dti relation on loan status\n",
    "\n",
    "This graph tell about dti VS Loan Status relationship.\n",
    "\n",
    "dti is debt to income ratio which tells about the expenditure of borrower.\n",
    "\n",
    "**Analysis:**\n"
   ]
  },
  {
   "cell_type": "code",
   "execution_count": 264,
   "id": "12589251",
   "metadata": {},
   "outputs": [],
   "source": [
    "# Drop the index whose home_ownership is NONE as per record\n",
    "indexNone = loan_data[loan_data['home_ownership'] == 'NONE'].index\n",
    "df_dti_data = loan_data.drop(indexNone)"
   ]
  },
  {
   "cell_type": "code",
   "execution_count": 265,
   "id": "1c59543b",
   "metadata": {},
   "outputs": [
    {
     "data": {
      "image/png": "[encoded data removed]",
      "text/plain": [
       "<Figure size 432x288 with 1 Axes>"
      ]
     },
     "metadata": {
      "needs_background": "light"
     },
     "output_type": "display_data"
    }
   ],
   "source": [
    "plt.boxplot(df_dti_data['dti'])\n",
    "plt.show()"
   ]
  },
  {
   "cell_type": "code",
   "execution_count": 266,
   "id": "764548c2",
   "metadata": {},
   "outputs": [
    {
     "name": "stdout",
     "output_type": "stream",
     "text": [
      "18.56\n",
      "8.13\n"
     ]
    }
   ],
   "source": [
    "Q3 = df_dti_data['dti'].quantile(0.75)\n",
    "Q1 = df_dti_data['dti'].quantile(0.25)\n",
    "print(Q3)\n",
    "print(Q1)"
   ]
  },
  {
   "cell_type": "code",
   "execution_count": 267,
   "id": "984dacfb",
   "metadata": {},
   "outputs": [
    {
     "data": {
      "text/html": [
       "<div>\n",
       "<style scoped>\n",
       "    .dataframe tbody tr th:only-of-type {\n",
       "        vertical-align: middle;\n",
       "    }\n",
       "\n",
       "    .dataframe tbody tr th {\n",
       "        vertical-align: top;\n",
       "    }\n",
       "\n",
       "    .dataframe thead th {\n",
       "        text-align: right;\n",
       "    }\n",
       "</style>\n",
       "<table border=\"1\" class=\"dataframe\">\n",
       "  <thead>\n",
       "    <tr style=\"text-align: right;\">\n",
       "      <th></th>\n",
       "      <th>id</th>\n",
       "      <th>loan_amnt</th>\n",
       "      <th>funded_amnt</th>\n",
       "      <th>funded_amnt_inv</th>\n",
       "      <th>annual_inc</th>\n",
       "      <th>int_rate</th>\n",
       "      <th>installment</th>\n",
       "      <th>loan_status</th>\n",
       "      <th>grade</th>\n",
       "      <th>sub_grade</th>\n",
       "      <th>dti</th>\n",
       "      <th>verification_status</th>\n",
       "      <th>term</th>\n",
       "      <th>home_ownership</th>\n",
       "      <th>purpose</th>\n",
       "      <th>addr_state</th>\n",
       "      <th>dti_bins</th>\n",
       "    </tr>\n",
       "  </thead>\n",
       "  <tbody>\n",
       "    <tr>\n",
       "      <th>0</th>\n",
       "      <td>1077501</td>\n",
       "      <td>5000</td>\n",
       "      <td>5000</td>\n",
       "      <td>4975.0</td>\n",
       "      <td>24000.0</td>\n",
       "      <td>10.65%</td>\n",
       "      <td>162.87</td>\n",
       "      <td>Fully Paid</td>\n",
       "      <td>B</td>\n",
       "      <td>B2</td>\n",
       "      <td>27.65</td>\n",
       "      <td>Verified</td>\n",
       "      <td>36 months</td>\n",
       "      <td>RENT</td>\n",
       "      <td>credit_card</td>\n",
       "      <td>AZ</td>\n",
       "      <td>high</td>\n",
       "    </tr>\n",
       "    <tr>\n",
       "      <th>1</th>\n",
       "      <td>1077430</td>\n",
       "      <td>2500</td>\n",
       "      <td>2500</td>\n",
       "      <td>2500.0</td>\n",
       "      <td>30000.0</td>\n",
       "      <td>15.27%</td>\n",
       "      <td>59.83</td>\n",
       "      <td>Charged Off</td>\n",
       "      <td>C</td>\n",
       "      <td>C4</td>\n",
       "      <td>1.00</td>\n",
       "      <td>Source Verified</td>\n",
       "      <td>60 months</td>\n",
       "      <td>RENT</td>\n",
       "      <td>car</td>\n",
       "      <td>GA</td>\n",
       "      <td>low</td>\n",
       "    </tr>\n",
       "    <tr>\n",
       "      <th>2</th>\n",
       "      <td>1077175</td>\n",
       "      <td>2400</td>\n",
       "      <td>2400</td>\n",
       "      <td>2400.0</td>\n",
       "      <td>12252.0</td>\n",
       "      <td>15.96%</td>\n",
       "      <td>84.33</td>\n",
       "      <td>Fully Paid</td>\n",
       "      <td>C</td>\n",
       "      <td>C5</td>\n",
       "      <td>8.72</td>\n",
       "      <td>Not Verified</td>\n",
       "      <td>36 months</td>\n",
       "      <td>RENT</td>\n",
       "      <td>small_business</td>\n",
       "      <td>IL</td>\n",
       "      <td>medium</td>\n",
       "    </tr>\n",
       "    <tr>\n",
       "      <th>3</th>\n",
       "      <td>1076863</td>\n",
       "      <td>10000</td>\n",
       "      <td>10000</td>\n",
       "      <td>10000.0</td>\n",
       "      <td>49200.0</td>\n",
       "      <td>13.49%</td>\n",
       "      <td>339.31</td>\n",
       "      <td>Fully Paid</td>\n",
       "      <td>C</td>\n",
       "      <td>C1</td>\n",
       "      <td>20.00</td>\n",
       "      <td>Source Verified</td>\n",
       "      <td>36 months</td>\n",
       "      <td>RENT</td>\n",
       "      <td>other</td>\n",
       "      <td>CA</td>\n",
       "      <td>high</td>\n",
       "    </tr>\n",
       "    <tr>\n",
       "      <th>5</th>\n",
       "      <td>1075269</td>\n",
       "      <td>5000</td>\n",
       "      <td>5000</td>\n",
       "      <td>5000.0</td>\n",
       "      <td>36000.0</td>\n",
       "      <td>7.90%</td>\n",
       "      <td>156.46</td>\n",
       "      <td>Fully Paid</td>\n",
       "      <td>A</td>\n",
       "      <td>A4</td>\n",
       "      <td>11.20</td>\n",
       "      <td>Source Verified</td>\n",
       "      <td>36 months</td>\n",
       "      <td>RENT</td>\n",
       "      <td>wedding</td>\n",
       "      <td>AZ</td>\n",
       "      <td>medium</td>\n",
       "    </tr>\n",
       "  </tbody>\n",
       "</table>\n",
       "</div>"
      ],
      "text/plain": [
       "        id  loan_amnt  funded_amnt  funded_amnt_inv  annual_inc int_rate  \\\n",
       "0  1077501       5000         5000           4975.0     24000.0   10.65%   \n",
       "1  1077430       2500         2500           2500.0     30000.0   15.27%   \n",
       "2  1077175       2400         2400           2400.0     12252.0   15.96%   \n",
       "3  1076863      10000        10000          10000.0     49200.0   13.49%   \n",
       "5  1075269       5000         5000           5000.0     36000.0    7.90%   \n",
       "\n",
       "   installment  loan_status grade sub_grade    dti verification_status  \\\n",
       "0       162.87   Fully Paid     B        B2  27.65            Verified   \n",
       "1        59.83  Charged Off     C        C4   1.00     Source Verified   \n",
       "2        84.33   Fully Paid     C        C5   8.72        Not Verified   \n",
       "3       339.31   Fully Paid     C        C1  20.00     Source Verified   \n",
       "5       156.46   Fully Paid     A        A4  11.20     Source Verified   \n",
       "\n",
       "         term home_ownership         purpose addr_state dti_bins  \n",
       "0   36 months           RENT     credit_card         AZ     high  \n",
       "1   60 months           RENT             car         GA      low  \n",
       "2   36 months           RENT  small_business         IL   medium  \n",
       "3   36 months           RENT           other         CA     high  \n",
       "5   36 months           RENT         wedding         AZ   medium  "
      ]
     },
     "execution_count": 267,
     "metadata": {},
     "output_type": "execute_result"
    }
   ],
   "source": [
    "df_dti_data.loc[df_dti_data['dti'] >= 18.56, 'dti_bins'] = 'high'\n",
    "df_dti_data.loc[df_dti_data['dti'] <= 8.13, 'dti_bins'] = 'low'\n",
    "df_dti_data.loc[(df_dti_data['dti'] > 8.13) & (df_dti_data['dti'] < 18.56), 'dti_bins'] = 'medium'\n",
    "df_dti_data.head()"
   ]
  },
  {
   "cell_type": "code",
   "execution_count": 259,
   "id": "89e68fdb",
   "metadata": {},
   "outputs": [
    {
     "data": {
      "text/html": [
       "<div>\n",
       "<style scoped>\n",
       "    .dataframe tbody tr th:only-of-type {\n",
       "        vertical-align: middle;\n",
       "    }\n",
       "\n",
       "    .dataframe tbody tr th {\n",
       "        vertical-align: top;\n",
       "    }\n",
       "\n",
       "    .dataframe thead th {\n",
       "        text-align: right;\n",
       "    }\n",
       "</style>\n",
       "<table border=\"1\" class=\"dataframe\">\n",
       "  <thead>\n",
       "    <tr style=\"text-align: right;\">\n",
       "      <th></th>\n",
       "      <th>dti_bins</th>\n",
       "      <th>loan_status</th>\n",
       "    </tr>\n",
       "  </thead>\n",
       "  <tbody>\n",
       "    <tr>\n",
       "      <th>0</th>\n",
       "      <td>high</td>\n",
       "      <td>Fully Paid</td>\n",
       "    </tr>\n",
       "    <tr>\n",
       "      <th>1</th>\n",
       "      <td>low</td>\n",
       "      <td>Charged Off</td>\n",
       "    </tr>\n",
       "    <tr>\n",
       "      <th>2</th>\n",
       "      <td>medium</td>\n",
       "      <td>Fully Paid</td>\n",
       "    </tr>\n",
       "    <tr>\n",
       "      <th>3</th>\n",
       "      <td>high</td>\n",
       "      <td>Fully Paid</td>\n",
       "    </tr>\n",
       "    <tr>\n",
       "      <th>5</th>\n",
       "      <td>medium</td>\n",
       "      <td>Fully Paid</td>\n",
       "    </tr>\n",
       "  </tbody>\n",
       "</table>\n",
       "</div>"
      ],
      "text/plain": [
       "  dti_bins  loan_status\n",
       "0     high   Fully Paid\n",
       "1      low  Charged Off\n",
       "2   medium   Fully Paid\n",
       "3     high   Fully Paid\n",
       "5   medium   Fully Paid"
      ]
     },
     "execution_count": 259,
     "metadata": {},
     "output_type": "execute_result"
    }
   ],
   "source": [
    "df_dti_data = df_dti_data.loc[:, ['dti_bins',  'loan_status']]\n",
    "df_dti_data.head()"
   ]
  },
  {
   "cell_type": "code",
   "execution_count": 260,
   "id": "35e50a8f",
   "metadata": {},
   "outputs": [
    {
     "data": {
      "text/html": [
       "<div>\n",
       "<style scoped>\n",
       "    .dataframe tbody tr th:only-of-type {\n",
       "        vertical-align: middle;\n",
       "    }\n",
       "\n",
       "    .dataframe tbody tr th {\n",
       "        vertical-align: top;\n",
       "    }\n",
       "\n",
       "    .dataframe thead th {\n",
       "        text-align: right;\n",
       "    }\n",
       "</style>\n",
       "<table border=\"1\" class=\"dataframe\">\n",
       "  <thead>\n",
       "    <tr style=\"text-align: right;\">\n",
       "      <th>loan_status</th>\n",
       "      <th>Charged Off</th>\n",
       "      <th>Fully Paid</th>\n",
       "    </tr>\n",
       "    <tr>\n",
       "      <th>dti_bins</th>\n",
       "      <th></th>\n",
       "      <th></th>\n",
       "    </tr>\n",
       "  </thead>\n",
       "  <tbody>\n",
       "    <tr>\n",
       "      <th>high</th>\n",
       "      <td>1617</td>\n",
       "      <td>8029</td>\n",
       "    </tr>\n",
       "    <tr>\n",
       "      <th>low</th>\n",
       "      <td>1192</td>\n",
       "      <td>8458</td>\n",
       "    </tr>\n",
       "    <tr>\n",
       "      <th>medium</th>\n",
       "      <td>2818</td>\n",
       "      <td>16460</td>\n",
       "    </tr>\n",
       "  </tbody>\n",
       "</table>\n",
       "</div>"
      ],
      "text/plain": [
       "loan_status  Charged Off  Fully Paid\n",
       "dti_bins                            \n",
       "high                1617        8029\n",
       "low                 1192        8458\n",
       "medium              2818       16460"
      ]
     },
     "execution_count": 260,
     "metadata": {},
     "output_type": "execute_result"
    }
   ],
   "source": [
    "pivot_dti_data = pd.pivot_table(df_dti_data, index=['dti_bins'], columns= ['loan_status'], aggfunc= len)\n",
    "pivot_dti_data"
   ]
  },
  {
   "cell_type": "code",
   "execution_count": 261,
   "id": "fde29d59",
   "metadata": {},
   "outputs": [],
   "source": [
    "#df_home_data.drop(columns = [\"Charged Off\", \"Fully Paid\"], inplace=True)"
   ]
  },
  {
   "cell_type": "code",
   "execution_count": 262,
   "id": "cb9ab4bd",
   "metadata": {
    "scrolled": true
   },
   "outputs": [
    {
     "ename": "TypeError",
     "evalue": "no numeric data to plot",
     "output_type": "error",
     "traceback": [
      "\u001b[1;31m---------------------------------------------------------------------------\u001b[0m",
      "\u001b[1;31mTypeError\u001b[0m                                 Traceback (most recent call last)",
      "Input \u001b[1;32mIn [262]\u001b[0m, in \u001b[0;36m<cell line: 1>\u001b[1;34m()\u001b[0m\n\u001b[1;32m----> 1\u001b[0m plot \u001b[38;5;241m=\u001b[39m \u001b[43mdf_dti_data\u001b[49m\u001b[38;5;241;43m.\u001b[39;49m\u001b[43mplot\u001b[49m\u001b[43m(\u001b[49m\u001b[43mkind\u001b[49m\u001b[38;5;241;43m=\u001b[39;49m\u001b[38;5;124;43m'\u001b[39;49m\u001b[38;5;124;43mbar\u001b[39;49m\u001b[38;5;124;43m'\u001b[39;49m\u001b[43m,\u001b[49m\u001b[43m \u001b[49m\u001b[43mtitle\u001b[49m\u001b[38;5;241;43m=\u001b[39;49m\u001b[38;5;124;43m'\u001b[39;49m\u001b[38;5;124;43mAnalysis on Grade of borrower\u001b[39;49m\u001b[38;5;124;43m'\u001b[39;49m\u001b[43m,\u001b[49m\u001b[43m \u001b[49m\u001b[43mylabel\u001b[49m\u001b[38;5;241;43m=\u001b[39;49m\u001b[38;5;124;43m'\u001b[39;49m\u001b[38;5;124;43mLoan Status\u001b[39;49m\u001b[38;5;124;43m'\u001b[39;49m\u001b[43m,\u001b[49m\n\u001b[0;32m      2\u001b[0m \u001b[43m         \u001b[49m\u001b[43mxlabel\u001b[49m\u001b[38;5;241;43m=\u001b[39;49m\u001b[38;5;124;43m'\u001b[39;49m\u001b[38;5;124;43mGrade\u001b[39;49m\u001b[38;5;124;43m'\u001b[39;49m\u001b[43m,\u001b[49m\u001b[43m \u001b[49m\u001b[43mfigsize\u001b[49m\u001b[38;5;241;43m=\u001b[39;49m\u001b[43m(\u001b[49m\u001b[38;5;241;43m7\u001b[39;49m\u001b[43m,\u001b[49m\u001b[43m \u001b[49m\u001b[38;5;241;43m5\u001b[39;49m\u001b[43m)\u001b[49m\u001b[43m,\u001b[49m\u001b[43m \u001b[49m\u001b[43mfontsize\u001b[49m\u001b[38;5;241;43m=\u001b[39;49m\u001b[38;5;241;43m12\u001b[39;49m\u001b[43m,\u001b[49m\u001b[43m \u001b[49m\u001b[43mrot\u001b[49m\u001b[38;5;241;43m=\u001b[39;49m\u001b[38;5;241;43m0\u001b[39;49m\u001b[43m)\u001b[49m\n",
      "File \u001b[1;32m~\\anaconda3\\lib\\site-packages\\pandas\\plotting\\_core.py:972\u001b[0m, in \u001b[0;36mPlotAccessor.__call__\u001b[1;34m(self, *args, **kwargs)\u001b[0m\n\u001b[0;32m    969\u001b[0m             label_name \u001b[38;5;241m=\u001b[39m label_kw \u001b[38;5;129;01mor\u001b[39;00m data\u001b[38;5;241m.\u001b[39mcolumns\n\u001b[0;32m    970\u001b[0m             data\u001b[38;5;241m.\u001b[39mcolumns \u001b[38;5;241m=\u001b[39m label_name\n\u001b[1;32m--> 972\u001b[0m \u001b[38;5;28;01mreturn\u001b[39;00m plot_backend\u001b[38;5;241m.\u001b[39mplot(data, kind\u001b[38;5;241m=\u001b[39mkind, \u001b[38;5;241m*\u001b[39m\u001b[38;5;241m*\u001b[39mkwargs)\n",
      "File \u001b[1;32m~\\anaconda3\\lib\\site-packages\\pandas\\plotting\\_matplotlib\\__init__.py:71\u001b[0m, in \u001b[0;36mplot\u001b[1;34m(data, kind, **kwargs)\u001b[0m\n\u001b[0;32m     69\u001b[0m         kwargs[\u001b[38;5;124m\"\u001b[39m\u001b[38;5;124max\u001b[39m\u001b[38;5;124m\"\u001b[39m] \u001b[38;5;241m=\u001b[39m \u001b[38;5;28mgetattr\u001b[39m(ax, \u001b[38;5;124m\"\u001b[39m\u001b[38;5;124mleft_ax\u001b[39m\u001b[38;5;124m\"\u001b[39m, ax)\n\u001b[0;32m     70\u001b[0m plot_obj \u001b[38;5;241m=\u001b[39m PLOT_CLASSES[kind](data, \u001b[38;5;241m*\u001b[39m\u001b[38;5;241m*\u001b[39mkwargs)\n\u001b[1;32m---> 71\u001b[0m \u001b[43mplot_obj\u001b[49m\u001b[38;5;241;43m.\u001b[39;49m\u001b[43mgenerate\u001b[49m\u001b[43m(\u001b[49m\u001b[43m)\u001b[49m\n\u001b[0;32m     72\u001b[0m plot_obj\u001b[38;5;241m.\u001b[39mdraw()\n\u001b[0;32m     73\u001b[0m \u001b[38;5;28;01mreturn\u001b[39;00m plot_obj\u001b[38;5;241m.\u001b[39mresult\n",
      "File \u001b[1;32m~\\anaconda3\\lib\\site-packages\\pandas\\plotting\\_matplotlib\\core.py:327\u001b[0m, in \u001b[0;36mMPLPlot.generate\u001b[1;34m(self)\u001b[0m\n\u001b[0;32m    325\u001b[0m \u001b[38;5;28;01mdef\u001b[39;00m \u001b[38;5;21mgenerate\u001b[39m(\u001b[38;5;28mself\u001b[39m):\n\u001b[0;32m    326\u001b[0m     \u001b[38;5;28mself\u001b[39m\u001b[38;5;241m.\u001b[39m_args_adjust()\n\u001b[1;32m--> 327\u001b[0m     \u001b[38;5;28;43mself\u001b[39;49m\u001b[38;5;241;43m.\u001b[39;49m\u001b[43m_compute_plot_data\u001b[49m\u001b[43m(\u001b[49m\u001b[43m)\u001b[49m\n\u001b[0;32m    328\u001b[0m     \u001b[38;5;28mself\u001b[39m\u001b[38;5;241m.\u001b[39m_setup_subplots()\n\u001b[0;32m    329\u001b[0m     \u001b[38;5;28mself\u001b[39m\u001b[38;5;241m.\u001b[39m_make_plot()\n",
      "File \u001b[1;32m~\\anaconda3\\lib\\site-packages\\pandas\\plotting\\_matplotlib\\core.py:506\u001b[0m, in \u001b[0;36mMPLPlot._compute_plot_data\u001b[1;34m(self)\u001b[0m\n\u001b[0;32m    504\u001b[0m \u001b[38;5;66;03m# no non-numeric frames or series allowed\u001b[39;00m\n\u001b[0;32m    505\u001b[0m \u001b[38;5;28;01mif\u001b[39;00m is_empty:\n\u001b[1;32m--> 506\u001b[0m     \u001b[38;5;28;01mraise\u001b[39;00m \u001b[38;5;167;01mTypeError\u001b[39;00m(\u001b[38;5;124m\"\u001b[39m\u001b[38;5;124mno numeric data to plot\u001b[39m\u001b[38;5;124m\"\u001b[39m)\n\u001b[0;32m    508\u001b[0m \u001b[38;5;28mself\u001b[39m\u001b[38;5;241m.\u001b[39mdata \u001b[38;5;241m=\u001b[39m numeric_data\u001b[38;5;241m.\u001b[39mapply(\u001b[38;5;28mself\u001b[39m\u001b[38;5;241m.\u001b[39m_convert_to_ndarray)\n",
      "\u001b[1;31mTypeError\u001b[0m: no numeric data to plot"
     ]
    }
   ],
   "source": [
    "plot = df_dti_data.plot(kind='bar', title='Analysis on Grade of borrower', ylabel='Loan Status',\n",
    "         xlabel='Grade', figsize=(7, 5), fontsize=12, rot=0)"
   ]
  },
  {
   "cell_type": "code",
   "execution_count": 263,
   "id": "742d06ab",
   "metadata": {},
   "outputs": [
    {
     "ename": "KeyError",
     "evalue": "\"['Charged Off', 'Fully Paid'] not found in axis\"",
     "output_type": "error",
     "traceback": [
      "\u001b[1;31m---------------------------------------------------------------------------\u001b[0m",
      "\u001b[1;31mKeyError\u001b[0m                                  Traceback (most recent call last)",
      "Input \u001b[1;32mIn [263]\u001b[0m, in \u001b[0;36m<cell line: 3>\u001b[1;34m()\u001b[0m\n\u001b[0;32m      1\u001b[0m \u001b[38;5;66;03m# Find percetage of defaut for each Grade\u001b[39;00m\n\u001b[0;32m      2\u001b[0m df_dti_data[\u001b[38;5;124m\"\u001b[39m\u001b[38;5;124mRatio Percentage\u001b[39m\u001b[38;5;124m\"\u001b[39m] \u001b[38;5;241m=\u001b[39m ((pivot_dti_data[\u001b[38;5;124m\"\u001b[39m\u001b[38;5;124mCharged Off\u001b[39m\u001b[38;5;124m\"\u001b[39m] \u001b[38;5;241m*\u001b[39m \u001b[38;5;241m100\u001b[39m) \u001b[38;5;241m/\u001b[39m pivot_dti_data[\u001b[38;5;124m\"\u001b[39m\u001b[38;5;124mFully Paid\u001b[39m\u001b[38;5;124m\"\u001b[39m])\u001b[38;5;241m.\u001b[39mround(\u001b[38;5;241m2\u001b[39m)\n\u001b[1;32m----> 3\u001b[0m \u001b[43mdf_dti_data\u001b[49m\u001b[38;5;241;43m.\u001b[39;49m\u001b[43mdrop\u001b[49m\u001b[43m(\u001b[49m\u001b[43mcolumns\u001b[49m\u001b[43m \u001b[49m\u001b[38;5;241;43m=\u001b[39;49m\u001b[43m \u001b[49m\u001b[43m[\u001b[49m\u001b[38;5;124;43m\"\u001b[39;49m\u001b[38;5;124;43mCharged Off\u001b[39;49m\u001b[38;5;124;43m\"\u001b[39;49m\u001b[43m,\u001b[49m\u001b[43m \u001b[49m\u001b[38;5;124;43m\"\u001b[39;49m\u001b[38;5;124;43mFully Paid\u001b[39;49m\u001b[38;5;124;43m\"\u001b[39;49m\u001b[43m]\u001b[49m\u001b[43m,\u001b[49m\u001b[43m \u001b[49m\u001b[43minplace\u001b[49m\u001b[38;5;241;43m=\u001b[39;49m\u001b[38;5;28;43;01mTrue\u001b[39;49;00m\u001b[43m)\u001b[49m\n\u001b[0;32m      4\u001b[0m df_dti_data[\u001b[38;5;124m'\u001b[39m\u001b[38;5;124mRatio Percentage\u001b[39m\u001b[38;5;124m'\u001b[39m]\n",
      "File \u001b[1;32m~\\anaconda3\\lib\\site-packages\\pandas\\util\\_decorators.py:311\u001b[0m, in \u001b[0;36mdeprecate_nonkeyword_arguments.<locals>.decorate.<locals>.wrapper\u001b[1;34m(*args, **kwargs)\u001b[0m\n\u001b[0;32m    305\u001b[0m \u001b[38;5;28;01mif\u001b[39;00m \u001b[38;5;28mlen\u001b[39m(args) \u001b[38;5;241m>\u001b[39m num_allow_args:\n\u001b[0;32m    306\u001b[0m     warnings\u001b[38;5;241m.\u001b[39mwarn(\n\u001b[0;32m    307\u001b[0m         msg\u001b[38;5;241m.\u001b[39mformat(arguments\u001b[38;5;241m=\u001b[39marguments),\n\u001b[0;32m    308\u001b[0m         \u001b[38;5;167;01mFutureWarning\u001b[39;00m,\n\u001b[0;32m    309\u001b[0m         stacklevel\u001b[38;5;241m=\u001b[39mstacklevel,\n\u001b[0;32m    310\u001b[0m     )\n\u001b[1;32m--> 311\u001b[0m \u001b[38;5;28;01mreturn\u001b[39;00m func(\u001b[38;5;241m*\u001b[39margs, \u001b[38;5;241m*\u001b[39m\u001b[38;5;241m*\u001b[39mkwargs)\n",
      "File \u001b[1;32m~\\anaconda3\\lib\\site-packages\\pandas\\core\\frame.py:4954\u001b[0m, in \u001b[0;36mDataFrame.drop\u001b[1;34m(self, labels, axis, index, columns, level, inplace, errors)\u001b[0m\n\u001b[0;32m   4806\u001b[0m \u001b[38;5;129m@deprecate_nonkeyword_arguments\u001b[39m(version\u001b[38;5;241m=\u001b[39m\u001b[38;5;28;01mNone\u001b[39;00m, allowed_args\u001b[38;5;241m=\u001b[39m[\u001b[38;5;124m\"\u001b[39m\u001b[38;5;124mself\u001b[39m\u001b[38;5;124m\"\u001b[39m, \u001b[38;5;124m\"\u001b[39m\u001b[38;5;124mlabels\u001b[39m\u001b[38;5;124m\"\u001b[39m])\n\u001b[0;32m   4807\u001b[0m \u001b[38;5;28;01mdef\u001b[39;00m \u001b[38;5;21mdrop\u001b[39m(\n\u001b[0;32m   4808\u001b[0m     \u001b[38;5;28mself\u001b[39m,\n\u001b[1;32m   (...)\u001b[0m\n\u001b[0;32m   4815\u001b[0m     errors: \u001b[38;5;28mstr\u001b[39m \u001b[38;5;241m=\u001b[39m \u001b[38;5;124m\"\u001b[39m\u001b[38;5;124mraise\u001b[39m\u001b[38;5;124m\"\u001b[39m,\n\u001b[0;32m   4816\u001b[0m ):\n\u001b[0;32m   4817\u001b[0m     \u001b[38;5;124;03m\"\"\"\u001b[39;00m\n\u001b[0;32m   4818\u001b[0m \u001b[38;5;124;03m    Drop specified labels from rows or columns.\u001b[39;00m\n\u001b[0;32m   4819\u001b[0m \n\u001b[1;32m   (...)\u001b[0m\n\u001b[0;32m   4952\u001b[0m \u001b[38;5;124;03m            weight  1.0     0.8\u001b[39;00m\n\u001b[0;32m   4953\u001b[0m \u001b[38;5;124;03m    \"\"\"\u001b[39;00m\n\u001b[1;32m-> 4954\u001b[0m     \u001b[38;5;28;01mreturn\u001b[39;00m \u001b[38;5;28;43msuper\u001b[39;49m\u001b[43m(\u001b[49m\u001b[43m)\u001b[49m\u001b[38;5;241;43m.\u001b[39;49m\u001b[43mdrop\u001b[49m\u001b[43m(\u001b[49m\n\u001b[0;32m   4955\u001b[0m \u001b[43m        \u001b[49m\u001b[43mlabels\u001b[49m\u001b[38;5;241;43m=\u001b[39;49m\u001b[43mlabels\u001b[49m\u001b[43m,\u001b[49m\n\u001b[0;32m   4956\u001b[0m \u001b[43m        \u001b[49m\u001b[43maxis\u001b[49m\u001b[38;5;241;43m=\u001b[39;49m\u001b[43maxis\u001b[49m\u001b[43m,\u001b[49m\n\u001b[0;32m   4957\u001b[0m \u001b[43m        \u001b[49m\u001b[43mindex\u001b[49m\u001b[38;5;241;43m=\u001b[39;49m\u001b[43mindex\u001b[49m\u001b[43m,\u001b[49m\n\u001b[0;32m   4958\u001b[0m \u001b[43m        \u001b[49m\u001b[43mcolumns\u001b[49m\u001b[38;5;241;43m=\u001b[39;49m\u001b[43mcolumns\u001b[49m\u001b[43m,\u001b[49m\n\u001b[0;32m   4959\u001b[0m \u001b[43m        \u001b[49m\u001b[43mlevel\u001b[49m\u001b[38;5;241;43m=\u001b[39;49m\u001b[43mlevel\u001b[49m\u001b[43m,\u001b[49m\n\u001b[0;32m   4960\u001b[0m \u001b[43m        \u001b[49m\u001b[43minplace\u001b[49m\u001b[38;5;241;43m=\u001b[39;49m\u001b[43minplace\u001b[49m\u001b[43m,\u001b[49m\n\u001b[0;32m   4961\u001b[0m \u001b[43m        \u001b[49m\u001b[43merrors\u001b[49m\u001b[38;5;241;43m=\u001b[39;49m\u001b[43merrors\u001b[49m\u001b[43m,\u001b[49m\n\u001b[0;32m   4962\u001b[0m \u001b[43m    \u001b[49m\u001b[43m)\u001b[49m\n",
      "File \u001b[1;32m~\\anaconda3\\lib\\site-packages\\pandas\\core\\generic.py:4267\u001b[0m, in \u001b[0;36mNDFrame.drop\u001b[1;34m(self, labels, axis, index, columns, level, inplace, errors)\u001b[0m\n\u001b[0;32m   4265\u001b[0m \u001b[38;5;28;01mfor\u001b[39;00m axis, labels \u001b[38;5;129;01min\u001b[39;00m axes\u001b[38;5;241m.\u001b[39mitems():\n\u001b[0;32m   4266\u001b[0m     \u001b[38;5;28;01mif\u001b[39;00m labels \u001b[38;5;129;01mis\u001b[39;00m \u001b[38;5;129;01mnot\u001b[39;00m \u001b[38;5;28;01mNone\u001b[39;00m:\n\u001b[1;32m-> 4267\u001b[0m         obj \u001b[38;5;241m=\u001b[39m \u001b[43mobj\u001b[49m\u001b[38;5;241;43m.\u001b[39;49m\u001b[43m_drop_axis\u001b[49m\u001b[43m(\u001b[49m\u001b[43mlabels\u001b[49m\u001b[43m,\u001b[49m\u001b[43m \u001b[49m\u001b[43maxis\u001b[49m\u001b[43m,\u001b[49m\u001b[43m \u001b[49m\u001b[43mlevel\u001b[49m\u001b[38;5;241;43m=\u001b[39;49m\u001b[43mlevel\u001b[49m\u001b[43m,\u001b[49m\u001b[43m \u001b[49m\u001b[43merrors\u001b[49m\u001b[38;5;241;43m=\u001b[39;49m\u001b[43merrors\u001b[49m\u001b[43m)\u001b[49m\n\u001b[0;32m   4269\u001b[0m \u001b[38;5;28;01mif\u001b[39;00m inplace:\n\u001b[0;32m   4270\u001b[0m     \u001b[38;5;28mself\u001b[39m\u001b[38;5;241m.\u001b[39m_update_inplace(obj)\n",
      "File \u001b[1;32m~\\anaconda3\\lib\\site-packages\\pandas\\core\\generic.py:4311\u001b[0m, in \u001b[0;36mNDFrame._drop_axis\u001b[1;34m(self, labels, axis, level, errors, consolidate, only_slice)\u001b[0m\n\u001b[0;32m   4309\u001b[0m         new_axis \u001b[38;5;241m=\u001b[39m axis\u001b[38;5;241m.\u001b[39mdrop(labels, level\u001b[38;5;241m=\u001b[39mlevel, errors\u001b[38;5;241m=\u001b[39merrors)\n\u001b[0;32m   4310\u001b[0m     \u001b[38;5;28;01melse\u001b[39;00m:\n\u001b[1;32m-> 4311\u001b[0m         new_axis \u001b[38;5;241m=\u001b[39m \u001b[43maxis\u001b[49m\u001b[38;5;241;43m.\u001b[39;49m\u001b[43mdrop\u001b[49m\u001b[43m(\u001b[49m\u001b[43mlabels\u001b[49m\u001b[43m,\u001b[49m\u001b[43m \u001b[49m\u001b[43merrors\u001b[49m\u001b[38;5;241;43m=\u001b[39;49m\u001b[43merrors\u001b[49m\u001b[43m)\u001b[49m\n\u001b[0;32m   4312\u001b[0m     indexer \u001b[38;5;241m=\u001b[39m axis\u001b[38;5;241m.\u001b[39mget_indexer(new_axis)\n\u001b[0;32m   4314\u001b[0m \u001b[38;5;66;03m# Case for non-unique axis\u001b[39;00m\n\u001b[0;32m   4315\u001b[0m \u001b[38;5;28;01melse\u001b[39;00m:\n",
      "File \u001b[1;32m~\\anaconda3\\lib\\site-packages\\pandas\\core\\indexes\\base.py:6644\u001b[0m, in \u001b[0;36mIndex.drop\u001b[1;34m(self, labels, errors)\u001b[0m\n\u001b[0;32m   6642\u001b[0m \u001b[38;5;28;01mif\u001b[39;00m mask\u001b[38;5;241m.\u001b[39many():\n\u001b[0;32m   6643\u001b[0m     \u001b[38;5;28;01mif\u001b[39;00m errors \u001b[38;5;241m!=\u001b[39m \u001b[38;5;124m\"\u001b[39m\u001b[38;5;124mignore\u001b[39m\u001b[38;5;124m\"\u001b[39m:\n\u001b[1;32m-> 6644\u001b[0m         \u001b[38;5;28;01mraise\u001b[39;00m \u001b[38;5;167;01mKeyError\u001b[39;00m(\u001b[38;5;124mf\u001b[39m\u001b[38;5;124m\"\u001b[39m\u001b[38;5;132;01m{\u001b[39;00m\u001b[38;5;28mlist\u001b[39m(labels[mask])\u001b[38;5;132;01m}\u001b[39;00m\u001b[38;5;124m not found in axis\u001b[39m\u001b[38;5;124m\"\u001b[39m)\n\u001b[0;32m   6645\u001b[0m     indexer \u001b[38;5;241m=\u001b[39m indexer[\u001b[38;5;241m~\u001b[39mmask]\n\u001b[0;32m   6646\u001b[0m \u001b[38;5;28;01mreturn\u001b[39;00m \u001b[38;5;28mself\u001b[39m\u001b[38;5;241m.\u001b[39mdelete(indexer)\n",
      "\u001b[1;31mKeyError\u001b[0m: \"['Charged Off', 'Fully Paid'] not found in axis\""
     ]
    }
   ],
   "source": [
    "# Find percetage of defaut for each Grade\n",
    "df_dti_data[\"Ratio Percentage\"] = ((pivot_dti_data[\"Charged Off\"] * 100) / pivot_dti_data[\"Fully Paid\"]).round(2)\n",
    "df_dti_data.drop(columns = [\"Charged Off\", \"Fully Paid\"], inplace=True)\n",
    "df_dti_data['Ratio Percentage']"
   ]
  },
  {
   "cell_type": "code",
   "execution_count": 244,
   "id": "2b624f54",
   "metadata": {},
   "outputs": [
    {
     "data": {
      "image/png": "[encoded data removed]",
      "text/plain": [
       "<Figure size 432x288 with 1 Axes>"
      ]
     },
     "metadata": {
      "needs_background": "light"
     },
     "output_type": "display_data"
    }
   ],
   "source": [
    "# Draw graph to find out percentage\n",
    "X = pivot_home_data['Ratio Percentage'].index\n",
    "Y = pivot_home_data['Ratio Percentage'].values\n",
    "draw_percentage_bar_chart(X, Y, 'debt to income ratio relation with loan default', 'dti burden', 'Default loan in [%]')\n"
   ]
  },
  {
   "cell_type": "code",
   "execution_count": null,
   "id": "5b266af0",
   "metadata": {},
   "outputs": [],
   "source": []
  },
  {
   "cell_type": "markdown",
   "id": "86a96341",
   "metadata": {},
   "source": [
    "## Relation of loan on Tenure of loan (term)\n",
    "\n",
    "\n",
    "This graph tell about dti VS Loan Status relationship.\n",
    "\n",
    "dti is debt to income ratio which tells about the expenditure of borrower.\n",
    "\n",
    "**Analysis:**\n",
    "- It is observed that, borrower who have \"36 month\" tenure are more in count and complete the loan successfully."
   ]
  },
  {
   "cell_type": "code",
   "execution_count": 245,
   "id": "3a9f5819",
   "metadata": {},
   "outputs": [
    {
     "data": {
      "text/html": [
       "<div>\n",
       "<style scoped>\n",
       "    .dataframe tbody tr th:only-of-type {\n",
       "        vertical-align: middle;\n",
       "    }\n",
       "\n",
       "    .dataframe tbody tr th {\n",
       "        vertical-align: top;\n",
       "    }\n",
       "\n",
       "    .dataframe thead th {\n",
       "        text-align: right;\n",
       "    }\n",
       "</style>\n",
       "<table border=\"1\" class=\"dataframe\">\n",
       "  <thead>\n",
       "    <tr style=\"text-align: right;\">\n",
       "      <th></th>\n",
       "      <th>dti_bins</th>\n",
       "      <th>loan_status</th>\n",
       "    </tr>\n",
       "  </thead>\n",
       "  <tbody>\n",
       "    <tr>\n",
       "      <th>0</th>\n",
       "      <td>high</td>\n",
       "      <td>Fully Paid</td>\n",
       "    </tr>\n",
       "    <tr>\n",
       "      <th>1</th>\n",
       "      <td>low</td>\n",
       "      <td>Charged Off</td>\n",
       "    </tr>\n",
       "    <tr>\n",
       "      <th>2</th>\n",
       "      <td>medium</td>\n",
       "      <td>Fully Paid</td>\n",
       "    </tr>\n",
       "    <tr>\n",
       "      <th>3</th>\n",
       "      <td>high</td>\n",
       "      <td>Fully Paid</td>\n",
       "    </tr>\n",
       "    <tr>\n",
       "      <th>5</th>\n",
       "      <td>medium</td>\n",
       "      <td>Fully Paid</td>\n",
       "    </tr>\n",
       "  </tbody>\n",
       "</table>\n",
       "</div>"
      ],
      "text/plain": [
       "  dti_bins  loan_status\n",
       "0     high   Fully Paid\n",
       "1      low  Charged Off\n",
       "2   medium   Fully Paid\n",
       "3     high   Fully Paid\n",
       "5   medium   Fully Paid"
      ]
     },
     "execution_count": 245,
     "metadata": {},
     "output_type": "execute_result"
    }
   ],
   "source": [
    "df_home_data.head()"
   ]
  },
  {
   "cell_type": "code",
   "execution_count": 204,
   "id": "ad78cef8",
   "metadata": {},
   "outputs": [
    {
     "ename": "KeyError",
     "evalue": "'dti'",
     "output_type": "error",
     "traceback": [
      "\u001b[1;31m---------------------------------------------------------------------------\u001b[0m",
      "\u001b[1;31mKeyError\u001b[0m                                  Traceback (most recent call last)",
      "File \u001b[1;32m~\\anaconda3\\lib\\site-packages\\pandas\\core\\indexes\\base.py:3621\u001b[0m, in \u001b[0;36mIndex.get_loc\u001b[1;34m(self, key, method, tolerance)\u001b[0m\n\u001b[0;32m   3620\u001b[0m \u001b[38;5;28;01mtry\u001b[39;00m:\n\u001b[1;32m-> 3621\u001b[0m     \u001b[38;5;28;01mreturn\u001b[39;00m \u001b[38;5;28;43mself\u001b[39;49m\u001b[38;5;241;43m.\u001b[39;49m\u001b[43m_engine\u001b[49m\u001b[38;5;241;43m.\u001b[39;49m\u001b[43mget_loc\u001b[49m\u001b[43m(\u001b[49m\u001b[43mcasted_key\u001b[49m\u001b[43m)\u001b[49m\n\u001b[0;32m   3622\u001b[0m \u001b[38;5;28;01mexcept\u001b[39;00m \u001b[38;5;167;01mKeyError\u001b[39;00m \u001b[38;5;28;01mas\u001b[39;00m err:\n",
      "File \u001b[1;32m~\\anaconda3\\lib\\site-packages\\pandas\\_libs\\index.pyx:136\u001b[0m, in \u001b[0;36mpandas._libs.index.IndexEngine.get_loc\u001b[1;34m()\u001b[0m\n",
      "File \u001b[1;32m~\\anaconda3\\lib\\site-packages\\pandas\\_libs\\index.pyx:163\u001b[0m, in \u001b[0;36mpandas._libs.index.IndexEngine.get_loc\u001b[1;34m()\u001b[0m\n",
      "File \u001b[1;32mpandas\\_libs\\hashtable_class_helper.pxi:5198\u001b[0m, in \u001b[0;36mpandas._libs.hashtable.PyObjectHashTable.get_item\u001b[1;34m()\u001b[0m\n",
      "File \u001b[1;32mpandas\\_libs\\hashtable_class_helper.pxi:5206\u001b[0m, in \u001b[0;36mpandas._libs.hashtable.PyObjectHashTable.get_item\u001b[1;34m()\u001b[0m\n",
      "\u001b[1;31mKeyError\u001b[0m: 'dti'",
      "\nThe above exception was the direct cause of the following exception:\n",
      "\u001b[1;31mKeyError\u001b[0m                                  Traceback (most recent call last)",
      "Input \u001b[1;32mIn [204]\u001b[0m, in \u001b[0;36m<cell line: 1>\u001b[1;34m()\u001b[0m\n\u001b[1;32m----> 1\u001b[0m df_home_data\u001b[38;5;241m.\u001b[39mloc[\u001b[43mdf_home_data\u001b[49m\u001b[43m[\u001b[49m\u001b[38;5;124;43m'\u001b[39;49m\u001b[38;5;124;43mdti\u001b[39;49m\u001b[38;5;124;43m'\u001b[39;49m\u001b[43m]\u001b[49m \u001b[38;5;241m>\u001b[39m\u001b[38;5;241m=\u001b[39m \u001b[38;5;241m18.56\u001b[39m, \u001b[38;5;124m'\u001b[39m\u001b[38;5;124mdti_bins\u001b[39m\u001b[38;5;124m'\u001b[39m] \u001b[38;5;241m=\u001b[39m \u001b[38;5;124m'\u001b[39m\u001b[38;5;124mhigh\u001b[39m\u001b[38;5;124m'\u001b[39m\n\u001b[0;32m      2\u001b[0m df_home_data\u001b[38;5;241m.\u001b[39mloc[df_home_data[\u001b[38;5;124m'\u001b[39m\u001b[38;5;124mdti\u001b[39m\u001b[38;5;124m'\u001b[39m] \u001b[38;5;241m<\u001b[39m\u001b[38;5;241m=\u001b[39m \u001b[38;5;241m8.13\u001b[39m, \u001b[38;5;124m'\u001b[39m\u001b[38;5;124mdti_bins\u001b[39m\u001b[38;5;124m'\u001b[39m] \u001b[38;5;241m=\u001b[39m \u001b[38;5;124m'\u001b[39m\u001b[38;5;124mlow\u001b[39m\u001b[38;5;124m'\u001b[39m\n\u001b[0;32m      3\u001b[0m df_home_data\u001b[38;5;241m.\u001b[39mloc[(df_home_data[\u001b[38;5;124m'\u001b[39m\u001b[38;5;124mdti\u001b[39m\u001b[38;5;124m'\u001b[39m] \u001b[38;5;241m>\u001b[39m \u001b[38;5;241m8.13\u001b[39m) \u001b[38;5;241m&\u001b[39m (df_home_data[\u001b[38;5;124m'\u001b[39m\u001b[38;5;124mdti\u001b[39m\u001b[38;5;124m'\u001b[39m] \u001b[38;5;241m<\u001b[39m \u001b[38;5;241m18.56\u001b[39m), \u001b[38;5;124m'\u001b[39m\u001b[38;5;124mdti_bins\u001b[39m\u001b[38;5;124m'\u001b[39m] \u001b[38;5;241m=\u001b[39m \u001b[38;5;124m'\u001b[39m\u001b[38;5;124mmedium\u001b[39m\u001b[38;5;124m'\u001b[39m\n",
      "File \u001b[1;32m~\\anaconda3\\lib\\site-packages\\pandas\\core\\frame.py:3505\u001b[0m, in \u001b[0;36mDataFrame.__getitem__\u001b[1;34m(self, key)\u001b[0m\n\u001b[0;32m   3503\u001b[0m \u001b[38;5;28;01mif\u001b[39;00m \u001b[38;5;28mself\u001b[39m\u001b[38;5;241m.\u001b[39mcolumns\u001b[38;5;241m.\u001b[39mnlevels \u001b[38;5;241m>\u001b[39m \u001b[38;5;241m1\u001b[39m:\n\u001b[0;32m   3504\u001b[0m     \u001b[38;5;28;01mreturn\u001b[39;00m \u001b[38;5;28mself\u001b[39m\u001b[38;5;241m.\u001b[39m_getitem_multilevel(key)\n\u001b[1;32m-> 3505\u001b[0m indexer \u001b[38;5;241m=\u001b[39m \u001b[38;5;28;43mself\u001b[39;49m\u001b[38;5;241;43m.\u001b[39;49m\u001b[43mcolumns\u001b[49m\u001b[38;5;241;43m.\u001b[39;49m\u001b[43mget_loc\u001b[49m\u001b[43m(\u001b[49m\u001b[43mkey\u001b[49m\u001b[43m)\u001b[49m\n\u001b[0;32m   3506\u001b[0m \u001b[38;5;28;01mif\u001b[39;00m is_integer(indexer):\n\u001b[0;32m   3507\u001b[0m     indexer \u001b[38;5;241m=\u001b[39m [indexer]\n",
      "File \u001b[1;32m~\\anaconda3\\lib\\site-packages\\pandas\\core\\indexes\\base.py:3623\u001b[0m, in \u001b[0;36mIndex.get_loc\u001b[1;34m(self, key, method, tolerance)\u001b[0m\n\u001b[0;32m   3621\u001b[0m     \u001b[38;5;28;01mreturn\u001b[39;00m \u001b[38;5;28mself\u001b[39m\u001b[38;5;241m.\u001b[39m_engine\u001b[38;5;241m.\u001b[39mget_loc(casted_key)\n\u001b[0;32m   3622\u001b[0m \u001b[38;5;28;01mexcept\u001b[39;00m \u001b[38;5;167;01mKeyError\u001b[39;00m \u001b[38;5;28;01mas\u001b[39;00m err:\n\u001b[1;32m-> 3623\u001b[0m     \u001b[38;5;28;01mraise\u001b[39;00m \u001b[38;5;167;01mKeyError\u001b[39;00m(key) \u001b[38;5;28;01mfrom\u001b[39;00m \u001b[38;5;21;01merr\u001b[39;00m\n\u001b[0;32m   3624\u001b[0m \u001b[38;5;28;01mexcept\u001b[39;00m \u001b[38;5;167;01mTypeError\u001b[39;00m:\n\u001b[0;32m   3625\u001b[0m     \u001b[38;5;66;03m# If we have a listlike key, _check_indexing_error will raise\u001b[39;00m\n\u001b[0;32m   3626\u001b[0m     \u001b[38;5;66;03m#  InvalidIndexError. Otherwise we fall through and re-raise\u001b[39;00m\n\u001b[0;32m   3627\u001b[0m     \u001b[38;5;66;03m#  the TypeError.\u001b[39;00m\n\u001b[0;32m   3628\u001b[0m     \u001b[38;5;28mself\u001b[39m\u001b[38;5;241m.\u001b[39m_check_indexing_error(key)\n",
      "\u001b[1;31mKeyError\u001b[0m: 'dti'"
     ]
    }
   ],
   "source": [
    "df_home_data.loc[df_home_data['dti'] >= 18.56, 'dti_bins'] = 'high'\n",
    "df_home_data.loc[df_home_data['dti'] <= 8.13, 'dti_bins'] = 'low'\n",
    "df_home_data.loc[(df_home_data['dti'] > 8.13) & (df_home_data['dti'] < 18.56), 'dti_bins'] = 'medium'\n",
    "df_home_data.head()\n",
    "\n",
    "df_term_data = df_home_data.loc[:, ['term', 'dti_bins', 'loan_status']]\n",
    "df_term_data.head()"
   ]
  },
  {
   "cell_type": "code",
   "execution_count": 184,
   "id": "0e2f8a5b",
   "metadata": {},
   "outputs": [
    {
     "data": {
      "text/html": [
       "<div>\n",
       "<style scoped>\n",
       "    .dataframe tbody tr th:only-of-type {\n",
       "        vertical-align: middle;\n",
       "    }\n",
       "\n",
       "    .dataframe tbody tr th {\n",
       "        vertical-align: top;\n",
       "    }\n",
       "\n",
       "    .dataframe thead th {\n",
       "        text-align: right;\n",
       "    }\n",
       "</style>\n",
       "<table border=\"1\" class=\"dataframe\">\n",
       "  <thead>\n",
       "    <tr style=\"text-align: right;\">\n",
       "      <th>loan_status</th>\n",
       "      <th>Charged Off</th>\n",
       "      <th>Fully Paid</th>\n",
       "    </tr>\n",
       "    <tr>\n",
       "      <th>term</th>\n",
       "      <th></th>\n",
       "      <th></th>\n",
       "    </tr>\n",
       "  </thead>\n",
       "  <tbody>\n",
       "    <tr>\n",
       "      <th>36 months</th>\n",
       "      <td>3227</td>\n",
       "      <td>25869</td>\n",
       "    </tr>\n",
       "    <tr>\n",
       "      <th>60 months</th>\n",
       "      <td>2400</td>\n",
       "      <td>7081</td>\n",
       "    </tr>\n",
       "  </tbody>\n",
       "</table>\n",
       "</div>"
      ],
      "text/plain": [
       "loan_status  Charged Off  Fully Paid\n",
       "term                                \n",
       " 36 months          3227       25869\n",
       " 60 months          2400        7081"
      ]
     },
     "execution_count": 184,
     "metadata": {},
     "output_type": "execute_result"
    }
   ],
   "source": [
    "df_term_data = pd.pivot_table(df_term_data, index=['term'], columns= ['loan_status'], aggfunc= len)\n",
    "df_term_data"
   ]
  },
  {
   "cell_type": "code",
   "execution_count": 192,
   "id": "d97e096d",
   "metadata": {},
   "outputs": [
    {
     "ename": "KeyError",
     "evalue": "'dti_bins'",
     "output_type": "error",
     "traceback": [
      "\u001b[1;31m---------------------------------------------------------------------------\u001b[0m",
      "\u001b[1;31mKeyError\u001b[0m                                  Traceback (most recent call last)",
      "Input \u001b[1;32mIn [192]\u001b[0m, in \u001b[0;36m<cell line: 1>\u001b[1;34m()\u001b[0m\n\u001b[1;32m----> 1\u001b[0m \u001b[43mdf_term_data\u001b[49m\u001b[38;5;241;43m.\u001b[39;49m\u001b[43mgroupby\u001b[49m\u001b[43m(\u001b[49m\u001b[43m[\u001b[49m\u001b[43m \u001b[49m\u001b[38;5;124;43m'\u001b[39;49m\u001b[38;5;124;43mdti_bins\u001b[39;49m\u001b[38;5;124;43m'\u001b[39;49m\u001b[43m]\u001b[49m\u001b[43m)\u001b[49m\u001b[38;5;241m.\u001b[39msum()\n",
      "File \u001b[1;32m~\\anaconda3\\lib\\site-packages\\pandas\\core\\frame.py:7712\u001b[0m, in \u001b[0;36mDataFrame.groupby\u001b[1;34m(self, by, axis, level, as_index, sort, group_keys, squeeze, observed, dropna)\u001b[0m\n\u001b[0;32m   7707\u001b[0m axis \u001b[38;5;241m=\u001b[39m \u001b[38;5;28mself\u001b[39m\u001b[38;5;241m.\u001b[39m_get_axis_number(axis)\n\u001b[0;32m   7709\u001b[0m \u001b[38;5;66;03m# https://github.com/python/mypy/issues/7642\u001b[39;00m\n\u001b[0;32m   7710\u001b[0m \u001b[38;5;66;03m# error: Argument \"squeeze\" to \"DataFrameGroupBy\" has incompatible type\u001b[39;00m\n\u001b[0;32m   7711\u001b[0m \u001b[38;5;66;03m# \"Union[bool, NoDefault]\"; expected \"bool\"\u001b[39;00m\n\u001b[1;32m-> 7712\u001b[0m \u001b[38;5;28;01mreturn\u001b[39;00m \u001b[43mDataFrameGroupBy\u001b[49m\u001b[43m(\u001b[49m\n\u001b[0;32m   7713\u001b[0m \u001b[43m    \u001b[49m\u001b[43mobj\u001b[49m\u001b[38;5;241;43m=\u001b[39;49m\u001b[38;5;28;43mself\u001b[39;49m\u001b[43m,\u001b[49m\n\u001b[0;32m   7714\u001b[0m \u001b[43m    \u001b[49m\u001b[43mkeys\u001b[49m\u001b[38;5;241;43m=\u001b[39;49m\u001b[43mby\u001b[49m\u001b[43m,\u001b[49m\n\u001b[0;32m   7715\u001b[0m \u001b[43m    \u001b[49m\u001b[43maxis\u001b[49m\u001b[38;5;241;43m=\u001b[39;49m\u001b[43maxis\u001b[49m\u001b[43m,\u001b[49m\n\u001b[0;32m   7716\u001b[0m \u001b[43m    \u001b[49m\u001b[43mlevel\u001b[49m\u001b[38;5;241;43m=\u001b[39;49m\u001b[43mlevel\u001b[49m\u001b[43m,\u001b[49m\n\u001b[0;32m   7717\u001b[0m \u001b[43m    \u001b[49m\u001b[43mas_index\u001b[49m\u001b[38;5;241;43m=\u001b[39;49m\u001b[43mas_index\u001b[49m\u001b[43m,\u001b[49m\n\u001b[0;32m   7718\u001b[0m \u001b[43m    \u001b[49m\u001b[43msort\u001b[49m\u001b[38;5;241;43m=\u001b[39;49m\u001b[43msort\u001b[49m\u001b[43m,\u001b[49m\n\u001b[0;32m   7719\u001b[0m \u001b[43m    \u001b[49m\u001b[43mgroup_keys\u001b[49m\u001b[38;5;241;43m=\u001b[39;49m\u001b[43mgroup_keys\u001b[49m\u001b[43m,\u001b[49m\n\u001b[0;32m   7720\u001b[0m \u001b[43m    \u001b[49m\u001b[43msqueeze\u001b[49m\u001b[38;5;241;43m=\u001b[39;49m\u001b[43msqueeze\u001b[49m\u001b[43m,\u001b[49m\u001b[43m  \u001b[49m\u001b[38;5;66;43;03m# type: ignore[arg-type]\u001b[39;49;00m\n\u001b[0;32m   7721\u001b[0m \u001b[43m    \u001b[49m\u001b[43mobserved\u001b[49m\u001b[38;5;241;43m=\u001b[39;49m\u001b[43mobserved\u001b[49m\u001b[43m,\u001b[49m\n\u001b[0;32m   7722\u001b[0m \u001b[43m    \u001b[49m\u001b[43mdropna\u001b[49m\u001b[38;5;241;43m=\u001b[39;49m\u001b[43mdropna\u001b[49m\u001b[43m,\u001b[49m\n\u001b[0;32m   7723\u001b[0m \u001b[43m\u001b[49m\u001b[43m)\u001b[49m\n",
      "File \u001b[1;32m~\\anaconda3\\lib\\site-packages\\pandas\\core\\groupby\\groupby.py:882\u001b[0m, in \u001b[0;36mGroupBy.__init__\u001b[1;34m(self, obj, keys, axis, level, grouper, exclusions, selection, as_index, sort, group_keys, squeeze, observed, mutated, dropna)\u001b[0m\n\u001b[0;32m    879\u001b[0m \u001b[38;5;28;01mif\u001b[39;00m grouper \u001b[38;5;129;01mis\u001b[39;00m \u001b[38;5;28;01mNone\u001b[39;00m:\n\u001b[0;32m    880\u001b[0m     \u001b[38;5;28;01mfrom\u001b[39;00m \u001b[38;5;21;01mpandas\u001b[39;00m\u001b[38;5;21;01m.\u001b[39;00m\u001b[38;5;21;01mcore\u001b[39;00m\u001b[38;5;21;01m.\u001b[39;00m\u001b[38;5;21;01mgroupby\u001b[39;00m\u001b[38;5;21;01m.\u001b[39;00m\u001b[38;5;21;01mgrouper\u001b[39;00m \u001b[38;5;28;01mimport\u001b[39;00m get_grouper\n\u001b[1;32m--> 882\u001b[0m     grouper, exclusions, obj \u001b[38;5;241m=\u001b[39m \u001b[43mget_grouper\u001b[49m\u001b[43m(\u001b[49m\n\u001b[0;32m    883\u001b[0m \u001b[43m        \u001b[49m\u001b[43mobj\u001b[49m\u001b[43m,\u001b[49m\n\u001b[0;32m    884\u001b[0m \u001b[43m        \u001b[49m\u001b[43mkeys\u001b[49m\u001b[43m,\u001b[49m\n\u001b[0;32m    885\u001b[0m \u001b[43m        \u001b[49m\u001b[43maxis\u001b[49m\u001b[38;5;241;43m=\u001b[39;49m\u001b[43maxis\u001b[49m\u001b[43m,\u001b[49m\n\u001b[0;32m    886\u001b[0m \u001b[43m        \u001b[49m\u001b[43mlevel\u001b[49m\u001b[38;5;241;43m=\u001b[39;49m\u001b[43mlevel\u001b[49m\u001b[43m,\u001b[49m\n\u001b[0;32m    887\u001b[0m \u001b[43m        \u001b[49m\u001b[43msort\u001b[49m\u001b[38;5;241;43m=\u001b[39;49m\u001b[43msort\u001b[49m\u001b[43m,\u001b[49m\n\u001b[0;32m    888\u001b[0m \u001b[43m        \u001b[49m\u001b[43mobserved\u001b[49m\u001b[38;5;241;43m=\u001b[39;49m\u001b[43mobserved\u001b[49m\u001b[43m,\u001b[49m\n\u001b[0;32m    889\u001b[0m \u001b[43m        \u001b[49m\u001b[43mmutated\u001b[49m\u001b[38;5;241;43m=\u001b[39;49m\u001b[38;5;28;43mself\u001b[39;49m\u001b[38;5;241;43m.\u001b[39;49m\u001b[43mmutated\u001b[49m\u001b[43m,\u001b[49m\n\u001b[0;32m    890\u001b[0m \u001b[43m        \u001b[49m\u001b[43mdropna\u001b[49m\u001b[38;5;241;43m=\u001b[39;49m\u001b[38;5;28;43mself\u001b[39;49m\u001b[38;5;241;43m.\u001b[39;49m\u001b[43mdropna\u001b[49m\u001b[43m,\u001b[49m\n\u001b[0;32m    891\u001b[0m \u001b[43m    \u001b[49m\u001b[43m)\u001b[49m\n\u001b[0;32m    893\u001b[0m \u001b[38;5;28mself\u001b[39m\u001b[38;5;241m.\u001b[39mobj \u001b[38;5;241m=\u001b[39m obj\n\u001b[0;32m    894\u001b[0m \u001b[38;5;28mself\u001b[39m\u001b[38;5;241m.\u001b[39maxis \u001b[38;5;241m=\u001b[39m obj\u001b[38;5;241m.\u001b[39m_get_axis_number(axis)\n",
      "File \u001b[1;32m~\\anaconda3\\lib\\site-packages\\pandas\\core\\groupby\\grouper.py:882\u001b[0m, in \u001b[0;36mget_grouper\u001b[1;34m(obj, key, axis, level, sort, observed, mutated, validate, dropna)\u001b[0m\n\u001b[0;32m    880\u001b[0m         in_axis, level, gpr \u001b[38;5;241m=\u001b[39m \u001b[38;5;28;01mFalse\u001b[39;00m, gpr, \u001b[38;5;28;01mNone\u001b[39;00m\n\u001b[0;32m    881\u001b[0m     \u001b[38;5;28;01melse\u001b[39;00m:\n\u001b[1;32m--> 882\u001b[0m         \u001b[38;5;28;01mraise\u001b[39;00m \u001b[38;5;167;01mKeyError\u001b[39;00m(gpr)\n\u001b[0;32m    883\u001b[0m \u001b[38;5;28;01melif\u001b[39;00m \u001b[38;5;28misinstance\u001b[39m(gpr, Grouper) \u001b[38;5;129;01mand\u001b[39;00m gpr\u001b[38;5;241m.\u001b[39mkey \u001b[38;5;129;01mis\u001b[39;00m \u001b[38;5;129;01mnot\u001b[39;00m \u001b[38;5;28;01mNone\u001b[39;00m:\n\u001b[0;32m    884\u001b[0m     \u001b[38;5;66;03m# Add key to exclusions\u001b[39;00m\n\u001b[0;32m    885\u001b[0m     exclusions\u001b[38;5;241m.\u001b[39madd(gpr\u001b[38;5;241m.\u001b[39mkey)\n",
      "\u001b[1;31mKeyError\u001b[0m: 'dti_bins'"
     ]
    }
   ],
   "source": [
    "df_term_data.groupby([ 'dti_bins']).sum()"
   ]
  },
  {
   "cell_type": "code",
   "execution_count": 188,
   "id": "24c7dc95",
   "metadata": {},
   "outputs": [
    {
     "data": {
      "text/plain": [
       "array([<AxesSubplot:ylabel='Charged Off'>,\n",
       "       <AxesSubplot:ylabel='Fully Paid'>], dtype=object)"
      ]
     },
     "execution_count": 188,
     "metadata": {},
     "output_type": "execute_result"
    },
    {
     "data": {
      "image/png": "[encoded data removed]",
      "text/plain": [
       "<Figure size 432x288 with 2 Axes>"
      ]
     },
     "metadata": {},
     "output_type": "display_data"
    }
   ],
   "source": [
    "df_term_data.groupby(['term', 'dti_bins']).sum().plot(\n",
    "    kind='pie', autopct='%1.0f%%', subplots=True)"
   ]
  },
  {
   "cell_type": "code",
   "execution_count": 185,
   "id": "e2d5a0e4",
   "metadata": {},
   "outputs": [
    {
     "data": {
      "image/png": "[encoded data removed]",
      "text/plain": [
       "<Figure size 504x360 with 1 Axes>"
      ]
     },
     "metadata": {
      "needs_background": "light"
     },
     "output_type": "display_data"
    }
   ],
   "source": [
    "plot = df_term_data.plot(kind='bar', title='Analysis on Tenure for loan on loan status', ylabel='Loan Status',\n",
    "         xlabel='Grade', figsize=(7, 5), fontsize=12, rot=0)"
   ]
  },
  {
   "cell_type": "code",
   "execution_count": null,
   "id": "6218e672",
   "metadata": {},
   "outputs": [],
   "source": []
  },
  {
   "cell_type": "code",
   "execution_count": null,
   "id": "1b3aa5ad",
   "metadata": {},
   "outputs": [],
   "source": []
  },
  {
   "cell_type": "code",
   "execution_count": null,
   "id": "055e0641",
   "metadata": {},
   "outputs": [],
   "source": []
  },
  {
   "cell_type": "code",
   "execution_count": 189,
   "id": "1580ff26",
   "metadata": {},
   "outputs": [
    {
     "name": "stderr",
     "output_type": "stream",
     "text": [
      "C:\\Users\\priya\\anaconda3\\lib\\site-packages\\seaborn\\_decorators.py:36: FutureWarning: Pass the following variables as keyword args: x, y. From version 0.12, the only valid positional argument will be `data`, and passing other arguments without an explicit keyword will result in an error or misinterpretation.\n",
      "  warnings.warn(\n"
     ]
    },
    {
     "data": {
      "text/plain": [
       "Text(0, 0.5, 'Annual Income')"
      ]
     },
     "execution_count": 189,
     "metadata": {},
     "output_type": "execute_result"
    },
    {
     "data": {
      "image/png": "[encoded data removed]",
      "text/plain": [
       "<Figure size 432x288 with 1 Axes>"
      ]
     },
     "metadata": {
      "needs_background": "light"
     },
     "output_type": "display_data"
    }
   ],
   "source": [
    "# barplot_chart = sns.barplot(np.array(loan_status), np.array(income), x=\"X axis\", y= \"Y axis\")\n",
    "# barplot_chart.set_xlabel(\"loan_status\")\n",
    "# barplot_chart.set_ylabel(\"Annual Income\")"
   ]
  },
  {
   "cell_type": "code",
   "execution_count": null,
   "id": "b0f30c45",
   "metadata": {},
   "outputs": [],
   "source": [
    "fig, ax = plt.subplots(ncols=2, sharey=True)\n",
    "\n",
    "income_chart = ax[0].bar(loan_status, income, label='1')\n",
    "income_chart.set_label(\"Income\")\n",
    "ax[0].set_title('Income vs Loan status')\n",
    "\n",
    "income_chart = ax[1].bar(loan_status, income, label='2')\n",
    "income_chart.set_label(\"Income\")\n",
    "ax[1].set_title('Income vs Loan status')\n",
    "\n",
    "#ax[1].bar(loan_status, funded_amnt_inv, label='2')\n",
    "\n",
    "# ax[1].scatter(loan_data['funded_amnt'], loan_data['annual_inc'],  alpha= 0.6, s = 50 )\n",
    "fig.set_size_inches(20.5, 5.5, forward=True)\n",
    "plt.show()\n"
   ]
  },
  {
   "cell_type": "code",
   "execution_count": null,
   "id": "d506b717",
   "metadata": {},
   "outputs": [],
   "source": []
  },
  {
   "cell_type": "code",
   "execution_count": null,
   "id": "db15d378",
   "metadata": {},
   "outputs": [],
   "source": []
  },
  {
   "cell_type": "code",
   "execution_count": 195,
   "id": "0bb037c4",
   "metadata": {},
   "outputs": [
    {
     "data": {
      "text/plain": [
       "Text(0, 0.5, 'Sales')"
      ]
     },
     "execution_count": 195,
     "metadata": {},
     "output_type": "execute_result"
    },
    {
     "data": {
      "image/png": "[encoded data removed]",
      "text/plain": [
       "<Figure size 432x288 with 1 Axes>"
      ]
     },
     "metadata": {
      "needs_background": "light"
     },
     "output_type": "display_data"
    }
   ],
   "source": [
    "# plotting scatter chart\n",
    "plt.scatter(loan_data['funded_amnt'], loan_data['annual_inc'],  alpha= 0.6, s = 50 )\n",
    "#plt.scatter(loan_data['funded_amnt_inv'], loan_data['annual_inc'],  alpha= 0.6, s = 50 )\n",
    "\n",
    "# Adding and formatting title\n",
    "plt.title(\"funded_amnt vs  annual_inc\\n\", fontdict={'fontsize': 20, 'fontweight' : 5, 'color' : 'Green'})\n",
    "\n",
    "# Labeling Axes\n",
    "plt.xlabel(\"Profit\", fontdict={'fontsize': 12, 'fontweight' : 5, 'color' : 'Brown'})\n",
    "plt.ylabel(\"Sales\", fontdict={'fontsize': 12, 'fontweight' : 5, 'color' : 'Brown'})"
   ]
  },
  {
   "cell_type": "code",
   "execution_count": null,
   "id": "8f2cd676",
   "metadata": {},
   "outputs": [],
   "source": []
  }
 ],
 "metadata": {
  "kernelspec": {
   "display_name": "Python 3 (ipykernel)",
   "language": "python",
   "name": "python3"
  },
  "language_info": {
   "codemirror_mode": {
    "name": "ipython",
    "version": 3
   },
   "file_extension": ".py",
   "mimetype": "text/x-python",
   "name": "python",
   "nbconvert_exporter": "python",
   "pygments_lexer": "ipython3",
   "version": "3.9.12"
  },
  "vscode": {
   "interpreter": {
    "hash": "31f2aee4e71d21fbe5cf8b01ff0e069b9275f58929596ceb00d14d90e3e16cd6"
   }
  }
 },
 "nbformat": 4,
 "nbformat_minor": 5
}
